{
 "cells": [
  {
   "cell_type": "code",
   "execution_count": 5,
   "metadata": {},
   "outputs": [
    {
     "name": "stdout",
     "output_type": "stream",
     "text": [
      "Too high, please try again\n"
     ]
    }
   ],
   "source": [
    "import random\n",
    "\n",
    "sec_num = random.randint(1,101)\n",
    "\n",
    "user = int(input(\"Enter a number: \"))\n",
    "\n",
    "if user == sec_num:\n",
    "    print(\"Congradulation you guessed the correct number\")\n",
    "elif user > sec_num:\n",
    "    print(\"Too high, please try again\")\n",
    "elif user < sec_num:\n",
    "    print(\"its less , please try again\")\n",
    "elif user < 1:\n",
    "    print(\"Guess number between 1 to 100 only\")\n",
    "else:\n",
    "    print(\"you lost\")\n",
    "\n",
    "\n"
   ]
  },
  {
   "cell_type": "code",
   "execution_count": 7,
   "metadata": {},
   "outputs": [
    {
     "name": "stdout",
     "output_type": "stream",
     "text": [
      "Too low! Try again.\n",
      "Too low! Try again.\n",
      "Too low! Try again.\n",
      "Too low! Try again.\n",
      "Too low! Try again.\n",
      "Congratulations! You guessed the correct number.\n"
     ]
    }
   ],
   "source": [
    "# import random\n",
    "\n",
    "# secret_number = random.randint(1, 10)\n",
    "\n",
    "# while True:\n",
    "#     try:\n",
    "#         user_guess = int(input(\"Guess the number: \"))\n",
    "#     except ValueError:\n",
    "#         print(\"Invalid input. Please enter a number.\")\n",
    "#         continue\n",
    "\n",
    "#     if user_guess == secret_number:\n",
    "#         print(\"Congratulations! You guessed the correct number.\")\n",
    "#         break\n",
    "#     elif user_guess > secret_number:\n",
    "#         print(\"Too high! Try again.\")\n",
    "#     else:\n",
    "#         print(\"Too low! Try again.\")\n"
   ]
  },
  {
   "cell_type": "code",
   "execution_count": 1,
   "metadata": {},
   "outputs": [
    {
     "name": "stdout",
     "output_type": "stream",
     "text": [
      "invalid input, plaese enetr the number\n",
      "Too high ,try again \n",
      "Too high ,try again \n",
      "congradulation you guessed the correct number\n"
     ]
    }
   ],
   "source": [
    "import random\n",
    "secret_number = random.randint(1,11)\n",
    "\n",
    "while True:\n",
    "    try:\n",
    "        user_guess = int(input(\"Enter the number: \"))\n",
    "    except ValueError:\n",
    "        print(\"invalid input, plaese enetr the number\")\n",
    "        continue\n",
    "\n",
    "    if user_guess==secret_number:\n",
    "        print(\"congradulation you guessed the correct number\")\n",
    "        break\n",
    "    elif user_guess > secret_number:\n",
    "        print(\"Too high ,try again \")\n",
    "    else:\n",
    "        print(\"Too less, try again\")\n",
    "    "
   ]
  }
 ],
 "metadata": {
  "kernelspec": {
   "display_name": "base",
   "language": "python",
   "name": "python3"
  },
  "language_info": {
   "codemirror_mode": {
    "name": "ipython",
    "version": 3
   },
   "file_extension": ".py",
   "mimetype": "text/x-python",
   "name": "python",
   "nbconvert_exporter": "python",
   "pygments_lexer": "ipython3",
   "version": "3.9.13"
  }
 },
 "nbformat": 4,
 "nbformat_minor": 2
}
