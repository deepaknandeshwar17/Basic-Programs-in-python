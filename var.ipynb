{
 "cells": [
  {
   "cell_type": "code",
   "execution_count": 9,
   "metadata": {},
   "outputs": [
    {
     "name": "stdout",
     "output_type": "stream",
     "text": [
      "1\n",
      "2\n",
      "c\n",
      "orange\n",
      "orange\n",
      "orange\n",
      "a\n",
      "b\n",
      "c\n"
     ]
    }
   ],
   "source": [
    "# Multi variables\n",
    "\n",
    "a,b,c = \"1\",2, \"c\"\n",
    "print(a)\n",
    "print(b)\n",
    "print(c)\n",
    "\n",
    "x=y=z=\"orange\"\n",
    "print(x)\n",
    "print(y)\n",
    "print(z)\n",
    "\n",
    "fruits = ['a','b','c']\n",
    "x,y,z = fruits\n",
    "print(x)\n",
    "print(y)\n",
    "print(z)"
   ]
  },
  {
   "cell_type": "code",
   "execution_count": 13,
   "metadata": {},
   "outputs": [
    {
     "name": "stdout",
     "output_type": "stream",
     "text": [
      "ThorisGreat\n",
      "Thor is Great\n",
      "5 car\n"
     ]
    }
   ],
   "source": [
    "# output variables\n",
    "\n",
    "a = \"Thor\"\n",
    "b = \"is\"\n",
    "c = \"Great\"\n",
    "print(a+b+c)\n",
    "print(a,b,c)\n",
    "\n",
    "\n",
    "x = 5\n",
    "v = \"car\"\n",
    "print(x,v)"
   ]
  },
  {
   "cell_type": "code",
   "execution_count": 20,
   "metadata": {},
   "outputs": [
    {
     "name": "stdout",
     "output_type": "stream",
     "text": [
      "Thor is Powerful\n",
      "Loki is God\n",
      "loki is Magician\n"
     ]
    }
   ],
   "source": [
    "# Global variable\n",
    "\n",
    "x = \"Powerful\"\n",
    "def gv(x):\n",
    "    print(\"Thor is \"+ x)\n",
    "gv(x)\n",
    "\n",
    "\n",
    "y = \"Magician\"\n",
    "def lv(y):\n",
    "    y = \"God\"\n",
    "    print(\"Loki is \"+ y)\n",
    "lv(y)\n",
    "print(\"loki is \"+y)"
   ]
  },
  {
   "cell_type": "code",
   "execution_count": 3,
   "metadata": {},
   "outputs": [
    {
     "name": "stdout",
     "output_type": "stream",
     "text": [
      "above 10, \n",
      "its below 20\n"
     ]
    }
   ],
   "source": [
    "# if else statement\n",
    "a = int(input())\n",
    "if a > 10:\n",
    "    print(\"above 10, \")\n",
    "    if a>20:\n",
    "        print(\"it is also above 20, \")\n",
    "    else:\n",
    "        print(\"its below 20\")        "
   ]
  },
  {
   "cell_type": "code",
   "execution_count": 7,
   "metadata": {},
   "outputs": [
    {
     "name": "stdout",
     "output_type": "stream",
     "text": [
      "3\n",
      "4\n"
     ]
    }
   ],
   "source": [
    "a = int(input())\n",
    "while a<6:\n",
    "    print(a)\n",
    "    if a ==4:\n",
    "        break\n",
    "    a+=1\n",
    "    "
   ]
  },
  {
   "cell_type": "code",
   "execution_count": 10,
   "metadata": {},
   "outputs": [
    {
     "name": "stdout",
     "output_type": "stream",
     "text": [
      "4\n",
      "5\n",
      "6\n",
      "7\n",
      "8\n",
      "9\n",
      "10\n"
     ]
    }
   ],
   "source": [
    "i = int(input())\n",
    "while i <10:\n",
    "    i+=1\n",
    "    # if i==5:\n",
    "    #     continue\n",
    "    print(i)\n"
   ]
  },
  {
   "cell_type": "code",
   "execution_count": 11,
   "metadata": {},
   "outputs": [
    {
     "name": "stdout",
     "output_type": "stream",
     "text": [
      "1\n",
      "2\n",
      "3\n",
      "4\n",
      "5\n"
     ]
    }
   ],
   "source": [
    "x = [1,2,3,4,5,6,7,8]\n",
    "for i in x:\n",
    "    print(i)\n",
    "    if (i == x[4]):\n",
    "        break"
   ]
  },
  {
   "cell_type": "code",
   "execution_count": 15,
   "metadata": {},
   "outputs": [
    {
     "name": "stdout",
     "output_type": "stream",
     "text": [
      "2\n",
      "4\n",
      "6\n",
      "8\n",
      "10\n",
      "12\n",
      "14\n",
      "16\n",
      "18\n",
      "20\n"
     ]
    }
   ],
   "source": [
    "for i in range(1,20,2):\n",
    "    i = i+1\n",
    "    print(i)"
   ]
  },
  {
   "cell_type": "code",
   "execution_count": 17,
   "metadata": {},
   "outputs": [
    {
     "name": "stdout",
     "output_type": "stream",
     "text": [
      "1\n",
      "2\n",
      "3\n",
      "4\n",
      "5\n",
      "6\n",
      "finally finished\n"
     ]
    }
   ],
   "source": [
    "for i in range(6):\n",
    "    i=i+1\n",
    "    print(i)\n",
    "else:\n",
    "    print(\"finally finished\")"
   ]
  },
  {
   "cell_type": "code",
   "execution_count": 22,
   "metadata": {},
   "outputs": [
    {
     "name": "stdout",
     "output_type": "stream",
     "text": [
      "Hello my name is goku. I am the strogest mortal\n"
     ]
    }
   ],
   "source": [
    "# functions\n",
    "def fun(de):\n",
    "    print(\"Hello my name is \"+de+\". I am the strogest mortal\")\n",
    "\n",
    "fun(\"goku\")"
   ]
  },
  {
   "cell_type": "code",
   "execution_count": 26,
   "metadata": {},
   "outputs": [
    {
     "name": "stdout",
     "output_type": "stream",
     "text": [
      "good morning boss\n"
     ]
    }
   ],
   "source": [
    "def hi(*hl):\n",
    "    print(\"good morning\"+ hl[2])\n",
    "hi(\"sir\",\"your majesty\",\" boss\")"
   ]
  },
  {
   "cell_type": "code",
   "execution_count": 36,
   "metadata": {},
   "outputs": [
    {
     "name": "stdout",
     "output_type": "stream",
     "text": [
      "helo 9\n"
     ]
    }
   ],
   "source": [
    "# arbitary keyword arguments\n",
    "def h(**i):\n",
    "    print('helo '+i[(input())])\n",
    "\n",
    "h(z=\"k\",x=\"o\",y=\"9\")"
   ]
  },
  {
   "cell_type": "code",
   "execution_count": 37,
   "metadata": {},
   "outputs": [
    {
     "name": "stdout",
     "output_type": "stream",
     "text": [
      "1\n",
      "2\n",
      "4\n",
      "0\n",
      "5\n",
      "6\n",
      "7\n",
      "7\n",
      "8\n"
     ]
    }
   ],
   "source": [
    "# loop in function\n",
    "a = [1,2,4,0,5,6,7,7,8]\n",
    "\n",
    "def funloop(h):\n",
    "    for i in h:\n",
    "        print(i)\n",
    "\n",
    "funloop(a)"
   ]
  },
  {
   "cell_type": "code",
   "execution_count": 39,
   "metadata": {},
   "outputs": [
    {
     "name": "stdout",
     "output_type": "stream",
     "text": [
      "30\n"
     ]
    }
   ],
   "source": [
    "def mul(x):\n",
    "    return 5*x\n",
    "\n",
    "print(mul(6))"
   ]
  },
  {
   "cell_type": "code",
   "execution_count": 6,
   "metadata": {},
   "outputs": [
    {
     "data": {
      "text/plain": [
       "6"
      ]
     },
     "execution_count": 6,
     "metadata": {},
     "output_type": "execute_result"
    }
   ],
   "source": [
    "def fact(n):\n",
    "    if n ==1 or n==0:\n",
    "        return 1\n",
    "    else:\n",
    "        h =n*fact(n-1)\n",
    "        return h\n",
    "    \n",
    "n = int(input())\n",
    "fact(n)\n"
   ]
  },
  {
   "cell_type": "code",
   "execution_count": 2,
   "metadata": {},
   "outputs": [
    {
     "name": "stdout",
     "output_type": "stream",
     "text": [
      "1 2 3 4 5 6 7 8 9 10 "
     ]
    }
   ],
   "source": [
    "for i in range(1,11):\n",
    "    print(i, end=\" \")"
   ]
  },
  {
   "cell_type": "code",
   "execution_count": 2,
   "metadata": {},
   "outputs": [
    {
     "name": "stdout",
     "output_type": "stream",
     "text": [
      "Fibonacci Series: 0 1 1 2 3 5 8 13 21 34 "
     ]
    }
   ],
   "source": [
    "def fibonacciSeries(i):\n",
    "    if i <= 1:\n",
    "        return i\n",
    "    else:\n",
    "        return (fibonacciSeries(i - 1) + fibonacciSeries(i - 2))\n",
    "\n",
    "num=10\n",
    "if num <=0:\n",
    "    print(\"Please enter a Positive Number\")\n",
    "else:\n",
    "    print(\"Fibonacci Series:\", end=\" \")\n",
    "for i in range(num):\n",
    "    print(fibonacciSeries(i), end=\" \")"
   ]
  },
  {
   "cell_type": "code",
   "execution_count": 11,
   "metadata": {},
   "outputs": [
    {
     "data": {
      "text/plain": [
       "[0, 1, 1, 2, 3, 5, 8, 13, 21, 34]"
      ]
     },
     "execution_count": 11,
     "metadata": {},
     "output_type": "execute_result"
    }
   ],
   "source": [
    "def fib(k):\n",
    "    s = [0,1]\n",
    "\n",
    "    for i in range(2,k):\n",
    "        n3 = s[-1]+s[-2]\n",
    "        s.append(n3)\n",
    "    return s\n",
    "\n",
    "k = int(input())\n",
    "fib(k)"
   ]
  },
  {
   "cell_type": "code",
   "execution_count": 12,
   "metadata": {},
   "outputs": [
    {
     "name": "stdout",
     "output_type": "stream",
     "text": [
      "the multiplication table of 4 is  :\n",
      "4 X 1 = 4\n",
      "4 X 2 = 8\n",
      "4 X 3 = 12\n",
      "4 X 4 = 16\n",
      "4 X 5 = 20\n",
      "4 X 6 = 24\n",
      "4 X 7 = 28\n",
      "4 X 8 = 32\n",
      "4 X 9 = 36\n",
      "4 X 10 = 40\n"
     ]
    }
   ],
   "source": [
    "i = int(input(\"Enter the number: \"))\n",
    "print(f\"the multiplication table of {i} is  :\")\n",
    "\n",
    "for k in range(1,11):\n",
    "    print(f\"{int(i)} X {k} = {i*k}\")"
   ]
  },
  {
   "cell_type": "code",
   "execution_count": 16,
   "metadata": {},
   "outputs": [
    {
     "name": "stdout",
     "output_type": "stream",
     "text": [
      "* * * * \n",
      "* * * * \n",
      "* * * * \n",
      "* * * * \n"
     ]
    }
   ],
   "source": [
    "n = int(input())\n",
    "\n",
    "for i in range(n):\n",
    "    for j in range(n):\n",
    "        print(\"*\", end=\" \")\n",
    "    print()\n"
   ]
  },
  {
   "cell_type": "code",
   "execution_count": 18,
   "metadata": {},
   "outputs": [
    {
     "name": "stdout",
     "output_type": "stream",
     "text": [
      "* \n",
      "* * \n",
      "* * * \n",
      "* * * * \n",
      "* * * * * \n",
      "* * * * * * \n"
     ]
    }
   ],
   "source": [
    "n = int(input())\n",
    "\n",
    "for i in range(n):\n",
    "    for j in range(i+1):\n",
    "        print(\"*\", end=\" \")\n",
    "    print()"
   ]
  },
  {
   "cell_type": "code",
   "execution_count": null,
   "metadata": {},
   "outputs": [],
   "source": []
  },
  {
   "cell_type": "code",
   "execution_count": 6,
   "metadata": {},
   "outputs": [
    {
     "name": "stdout",
     "output_type": "stream",
     "text": [
      "10\n",
      "Takes a number and multiplies it with 5\n"
     ]
    }
   ],
   "source": [
    "def doc(n):\n",
    "    '''Takes a number and multiplies it with 5'''\n",
    "    return n*5\n",
    "\n",
    "print(doc(2))\n",
    "print(doc.__doc__)"
   ]
  },
  {
   "cell_type": "code",
   "execution_count": 7,
   "metadata": {},
   "outputs": [
    {
     "name": "stdout",
     "output_type": "stream",
     "text": [
      "The Zen of Python, by Tim Peters\n",
      "\n",
      "Beautiful is better than ugly.\n",
      "Explicit is better than implicit.\n",
      "Simple is better than complex.\n",
      "Complex is better than complicated.\n",
      "Flat is better than nested.\n",
      "Sparse is better than dense.\n",
      "Readability counts.\n",
      "Special cases aren't special enough to break the rules.\n",
      "Although practicality beats purity.\n",
      "Errors should never pass silently.\n",
      "Unless explicitly silenced.\n",
      "In the face of ambiguity, refuse the temptation to guess.\n",
      "There should be one-- and preferably only one --obvious way to do it.\n",
      "Although that way may not be obvious at first unless you're Dutch.\n",
      "Now is better than never.\n",
      "Although never is often better than *right* now.\n",
      "If the implementation is hard to explain, it's a bad idea.\n",
      "If the implementation is easy to explain, it may be a good idea.\n",
      "Namespaces are one honking great idea -- let's do more of those!\n"
     ]
    }
   ],
   "source": [
    "import this"
   ]
  },
  {
   "cell_type": "code",
   "execution_count": 9,
   "metadata": {},
   "outputs": [
    {
     "data": {
      "text/plain": [
       "6"
      ]
     },
     "execution_count": 9,
     "metadata": {},
     "output_type": "execute_result"
    }
   ],
   "source": [
    "def fact(n):\n",
    "    if (n==0 or n==1):\n",
    "        return 1\n",
    "    else:\n",
    "        return (n*fact(n-1))\n",
    "    \n",
    "fact(3)"
   ]
  },
  {
   "cell_type": "code",
   "execution_count": 18,
   "metadata": {},
   "outputs": [
    {
     "data": {
      "text/plain": [
       "3"
      ]
     },
     "execution_count": 18,
     "metadata": {},
     "output_type": "execute_result"
    }
   ],
   "source": [
    "def fib(n):\n",
    "    if n == 0:\n",
    "        return 0\n",
    "    elif n == 1:\n",
    "        return 1\n",
    "    else:\n",
    "        return (fib(n-1)+ fib(n-2))\n",
    "fib(4)"
   ]
  },
  {
   "cell_type": "code",
   "execution_count": 2,
   "metadata": {},
   "outputs": [
    {
     "name": "stdout",
     "output_type": "stream",
     "text": [
      "[1, 2, 3, 4, 5, 6, 7, 8, 9, 10]\n"
     ]
    }
   ],
   "source": [
    "c =[]\n",
    "for i in range(1,11):\n",
    "    c.append(i)\n",
    "    \n",
    "print(c)"
   ]
  },
  {
   "cell_type": "code",
   "execution_count": 9,
   "metadata": {},
   "outputs": [
    {
     "name": "stdout",
     "output_type": "stream",
     "text": [
      "[1, 2, 3, 4, 5, 6, 7, 8, 9, 10]\n"
     ]
    },
    {
     "data": {
      "text/plain": [
       "[2, 3]"
      ]
     },
     "execution_count": 9,
     "metadata": {},
     "output_type": "execute_result"
    }
   ],
   "source": [
    "c = [i for i in range(1,11)]\n",
    "print(c)\n",
    "c[1:3]"
   ]
  },
  {
   "cell_type": "code",
   "execution_count": 10,
   "metadata": {},
   "outputs": [
    {
     "name": "stdout",
     "output_type": "stream",
     "text": [
      "h\n"
     ]
    }
   ],
   "source": [
    "if 2 in c:\n",
    "    print(\"h\")"
   ]
  },
  {
   "cell_type": "code",
   "execution_count": 1,
   "metadata": {},
   "outputs": [
    {
     "name": "stdout",
     "output_type": "stream",
     "text": [
      "b loves 7\n",
      "a loves 2\n"
     ]
    }
   ],
   "source": [
    "c ={'b':7, 'a':2}\n",
    "for x,y in c.items():\n",
    "    print(x+\" loves \"+str(y))"
   ]
  },
  {
   "cell_type": "code",
   "execution_count": 3,
   "metadata": {},
   "outputs": [
    {
     "name": "stdout",
     "output_type": "stream",
     "text": [
      "{'e', 'p', 'k'}\n",
      "{'e', 'n', 'k'}\n",
      "{'e', 'k'}\n",
      "None\n"
     ]
    }
   ],
   "source": [
    "def repeatable_counter():\n",
    "    s = input(\"Enter the string 1\")\n",
    "    ss = input(\"Enter the String 2\")\n",
    "    s1 = set(s)\n",
    "    s2 = set(ss)\n",
    "    print(s1)\n",
    "    print(s2)\n",
    "    rc = s1 & s2\n",
    "    print(rc)\n",
    "\n",
    "print(repeatable_counter())\n"
   ]
  },
  {
   "cell_type": "code",
   "execution_count": 6,
   "metadata": {},
   "outputs": [
    {
     "name": "stdout",
     "output_type": "stream",
     "text": [
      "{'I': 1, 'woke': 1, 'up': 1, 'early': 2, 'in': 1, 'the': 1, 'morning.': 1, 'and': 1, 'had': 1, 'breakfast': 1, 'as': 1, 'posiible.': 1}\n",
      "None\n"
     ]
    }
   ],
   "source": [
    "def word_freq():\n",
    "    str = \"I woke up early in the morning. and had breakfast early as posiible.\"\n",
    "    li = str.split()\n",
    "    d ={}\n",
    "\n",
    "    for i in li:\n",
    "        if i not in d.keys():\n",
    "            d[i]=0\n",
    "        d[i]=d[i]+1\n",
    "    print(d)\n",
    "print(word_freq())\n",
    "    "
   ]
  },
  {
   "cell_type": "code",
   "execution_count": 7,
   "metadata": {},
   "outputs": [
    {
     "name": "stdout",
     "output_type": "stream",
     "text": [
      "{'one': 1, 'two': 2, 'three': 3}\n"
     ]
    }
   ],
   "source": [
    "def list_to_dict():\n",
    "    key = ['one','two','three']\n",
    "    value = [1,2,3]\n",
    "    result = dict(zip(key,value))\n",
    "    print(result)\n",
    "\n",
    "list_to_dict()"
   ]
  },
  {
   "cell_type": "code",
   "execution_count": 14,
   "metadata": {},
   "outputs": [
    {
     "name": "stdout",
     "output_type": "stream",
     "text": [
      "('one', 1)\n",
      "('two', 2)\n",
      "('three', 3)\n"
     ]
    }
   ],
   "source": [
    "def dict_to_tuple():\n",
    "    x = {'one': 1, 'two': 2, 'three': 3}\n",
    "    for i in x.items():\n",
    "        print(i)\n",
    "dict_to_tuple()"
   ]
  },
  {
   "cell_type": "code",
   "execution_count": 15,
   "metadata": {},
   "outputs": [
    {
     "ename": "TypeError",
     "evalue": "'int' object is not callable",
     "output_type": "error",
     "traceback": [
      "\u001b[1;31m---------------------------------------------------------------------------\u001b[0m",
      "\u001b[1;31mTypeError\u001b[0m                                 Traceback (most recent call last)",
      "\u001b[1;32m~\\AppData\\Local\\Temp\\ipykernel_3472\\422321293.py\u001b[0m in \u001b[0;36m<module>\u001b[1;34m\u001b[0m\n\u001b[0;32m      7\u001b[0m     \u001b[0mprint\u001b[0m\u001b[1;33m(\u001b[0m\u001b[0mtotal\u001b[0m\u001b[1;33m-\u001b[0m\u001b[0msum1\u001b[0m\u001b[1;33m)\u001b[0m\u001b[1;33m\u001b[0m\u001b[1;33m\u001b[0m\u001b[0m\n\u001b[0;32m      8\u001b[0m \u001b[1;33m\u001b[0m\u001b[0m\n\u001b[1;32m----> 9\u001b[1;33m \u001b[0mmissing_num\u001b[0m\u001b[1;33m(\u001b[0m\u001b[1;33m)\u001b[0m\u001b[1;33m\u001b[0m\u001b[1;33m\u001b[0m\u001b[0m\n\u001b[0m",
      "\u001b[1;32m~\\AppData\\Local\\Temp\\ipykernel_3472\\422321293.py\u001b[0m in \u001b[0;36mmissing_num\u001b[1;34m()\u001b[0m\n\u001b[0;32m      4\u001b[0m     \u001b[0mtotal\u001b[0m \u001b[1;33m=\u001b[0m \u001b[0mn\u001b[0m\u001b[1;33m*\u001b[0m\u001b[1;33m(\u001b[0m\u001b[0mn\u001b[0m\u001b[1;33m+\u001b[0m\u001b[1;36m1\u001b[0m\u001b[1;33m)\u001b[0m\u001b[1;33m//\u001b[0m\u001b[1;36m2\u001b[0m\u001b[1;33m\u001b[0m\u001b[1;33m\u001b[0m\u001b[0m\n\u001b[0;32m      5\u001b[0m \u001b[1;33m\u001b[0m\u001b[0m\n\u001b[1;32m----> 6\u001b[1;33m     \u001b[0msum1\u001b[0m\u001b[1;33m=\u001b[0m\u001b[0msum\u001b[0m\u001b[1;33m(\u001b[0m\u001b[0ma\u001b[0m\u001b[1;33m)\u001b[0m\u001b[1;33m\u001b[0m\u001b[1;33m\u001b[0m\u001b[0m\n\u001b[0m\u001b[0;32m      7\u001b[0m     \u001b[0mprint\u001b[0m\u001b[1;33m(\u001b[0m\u001b[0mtotal\u001b[0m\u001b[1;33m-\u001b[0m\u001b[0msum1\u001b[0m\u001b[1;33m)\u001b[0m\u001b[1;33m\u001b[0m\u001b[1;33m\u001b[0m\u001b[0m\n\u001b[0;32m      8\u001b[0m \u001b[1;33m\u001b[0m\u001b[0m\n",
      "\u001b[1;31mTypeError\u001b[0m: 'int' object is not callable"
     ]
    }
   ],
   "source": [
    "def missing_num():\n",
    "    a = [1,2,3,5,6,7,8]\n",
    "    n = a[-1]\n",
    "    total = n*(n+1)//2\n",
    "    \n",
    "    sum1=sum(a)\n",
    "    print(total-sum1)\n",
    "\n",
    "missing_num()"
   ]
  },
  {
   "cell_type": "code",
   "execution_count": 11,
   "metadata": {},
   "outputs": [
    {
     "ename": "TypeError",
     "evalue": "'int' object is not callable",
     "output_type": "error",
     "traceback": [
      "\u001b[1;31m---------------------------------------------------------------------------\u001b[0m",
      "\u001b[1;31mTypeError\u001b[0m                                 Traceback (most recent call last)",
      "\u001b[1;32m~\\AppData\\Local\\Temp\\ipykernel_3472\\889645456.py\u001b[0m in \u001b[0;36m<module>\u001b[1;34m\u001b[0m\n\u001b[0;32m      8\u001b[0m \u001b[1;33m\u001b[0m\u001b[0m\n\u001b[0;32m      9\u001b[0m \u001b[0ma\u001b[0m \u001b[1;33m=\u001b[0m \u001b[1;33m[\u001b[0m\u001b[1;36m1\u001b[0m\u001b[1;33m,\u001b[0m\u001b[1;36m2\u001b[0m\u001b[1;33m,\u001b[0m\u001b[1;36m3\u001b[0m\u001b[1;33m,\u001b[0m\u001b[1;36m5\u001b[0m\u001b[1;33m,\u001b[0m\u001b[1;36m6\u001b[0m\u001b[1;33m,\u001b[0m\u001b[1;36m7\u001b[0m\u001b[1;33m,\u001b[0m\u001b[1;36m8\u001b[0m\u001b[1;33m]\u001b[0m\u001b[1;33m\u001b[0m\u001b[1;33m\u001b[0m\u001b[0m\n\u001b[1;32m---> 10\u001b[1;33m \u001b[0mmissing_num\u001b[0m\u001b[1;33m(\u001b[0m\u001b[0ma\u001b[0m\u001b[1;33m)\u001b[0m\u001b[1;33m\u001b[0m\u001b[1;33m\u001b[0m\u001b[0m\n\u001b[0m",
      "\u001b[1;32m~\\AppData\\Local\\Temp\\ipykernel_3472\\889645456.py\u001b[0m in \u001b[0;36mmissing_num\u001b[1;34m(a)\u001b[0m\n\u001b[0;32m      4\u001b[0m     \u001b[0mtotal\u001b[0m \u001b[1;33m=\u001b[0m \u001b[0mn\u001b[0m\u001b[1;33m*\u001b[0m\u001b[1;33m(\u001b[0m\u001b[0mn\u001b[0m\u001b[1;33m+\u001b[0m\u001b[1;36m1\u001b[0m\u001b[1;33m)\u001b[0m\u001b[1;33m//\u001b[0m\u001b[1;36m2\u001b[0m\u001b[1;33m\u001b[0m\u001b[1;33m\u001b[0m\u001b[0m\n\u001b[0;32m      5\u001b[0m     \u001b[0msum1\u001b[0m \u001b[1;33m=\u001b[0m \u001b[1;36m0\u001b[0m\u001b[1;33m\u001b[0m\u001b[1;33m\u001b[0m\u001b[0m\n\u001b[1;32m----> 6\u001b[1;33m     \u001b[0msum1\u001b[0m \u001b[1;33m=\u001b[0m \u001b[0msum\u001b[0m\u001b[1;33m(\u001b[0m\u001b[0ma\u001b[0m\u001b[1;33m)\u001b[0m\u001b[1;33m\u001b[0m\u001b[1;33m\u001b[0m\u001b[0m\n\u001b[0m\u001b[0;32m      7\u001b[0m     \u001b[0mprint\u001b[0m\u001b[1;33m(\u001b[0m\u001b[0mtotal\u001b[0m \u001b[1;33m-\u001b[0m \u001b[0msum1\u001b[0m\u001b[1;33m)\u001b[0m\u001b[1;33m\u001b[0m\u001b[1;33m\u001b[0m\u001b[0m\n\u001b[0;32m      8\u001b[0m \u001b[1;33m\u001b[0m\u001b[0m\n",
      "\u001b[1;31mTypeError\u001b[0m: 'int' object is not callable"
     ]
    }
   ],
   "source": [
    "def missing_num(a):\n",
    "    \n",
    "    n = a[-1]\n",
    "    total = n*(n+1)//2\n",
    "    sum1 = 0\n",
    "    sum1 = sum(a)\n",
    "    print(total - sum1)\n",
    "\n",
    "a = [1,2,3,5,6,7,8]\n",
    "missing_num(a)\n"
   ]
  },
  {
   "cell_type": "code",
   "execution_count": 27,
   "metadata": {},
   "outputs": [
    {
     "ename": "TypeError",
     "evalue": "'int' object is not callable",
     "output_type": "error",
     "traceback": [
      "\u001b[1;31m---------------------------------------------------------------------------\u001b[0m",
      "\u001b[1;31mTypeError\u001b[0m                                 Traceback (most recent call last)",
      "\u001b[1;32m~\\AppData\\Local\\Temp\\ipykernel_3472\\3253229683.py\u001b[0m in \u001b[0;36m<module>\u001b[1;34m\u001b[0m\n\u001b[0;32m      7\u001b[0m     \u001b[0mprint\u001b[0m\u001b[1;33m(\u001b[0m\u001b[0mt\u001b[0m\u001b[1;33m-\u001b[0m\u001b[0mvar\u001b[0m\u001b[1;33m)\u001b[0m\u001b[1;33m\u001b[0m\u001b[1;33m\u001b[0m\u001b[0m\n\u001b[0;32m      8\u001b[0m \u001b[0ma\u001b[0m \u001b[1;33m=\u001b[0m \u001b[1;33m[\u001b[0m\u001b[1;36m1\u001b[0m\u001b[1;33m,\u001b[0m\u001b[1;36m2\u001b[0m\u001b[1;33m,\u001b[0m\u001b[1;36m3\u001b[0m\u001b[1;33m,\u001b[0m\u001b[1;36m4\u001b[0m\u001b[1;33m,\u001b[0m\u001b[1;36m5\u001b[0m\u001b[1;33m,\u001b[0m\u001b[1;36m6\u001b[0m\u001b[1;33m,\u001b[0m\u001b[1;36m8\u001b[0m\u001b[1;33m]\u001b[0m\u001b[1;33m\u001b[0m\u001b[1;33m\u001b[0m\u001b[0m\n\u001b[1;32m----> 9\u001b[1;33m \u001b[0mmis\u001b[0m\u001b[1;33m(\u001b[0m\u001b[0ma\u001b[0m\u001b[1;33m)\u001b[0m\u001b[1;33m\u001b[0m\u001b[1;33m\u001b[0m\u001b[0m\n\u001b[0m",
      "\u001b[1;32m~\\AppData\\Local\\Temp\\ipykernel_3472\\3253229683.py\u001b[0m in \u001b[0;36mmis\u001b[1;34m(a)\u001b[0m\n\u001b[0;32m      4\u001b[0m     \u001b[0mt\u001b[0m \u001b[1;33m=\u001b[0m \u001b[0mn\u001b[0m\u001b[1;33m*\u001b[0m\u001b[1;33m(\u001b[0m\u001b[0mn\u001b[0m\u001b[1;33m+\u001b[0m\u001b[1;36m1\u001b[0m\u001b[1;33m)\u001b[0m\u001b[1;33m//\u001b[0m\u001b[1;36m2\u001b[0m\u001b[1;33m\u001b[0m\u001b[1;33m\u001b[0m\u001b[0m\n\u001b[0;32m      5\u001b[0m \u001b[1;33m\u001b[0m\u001b[0m\n\u001b[1;32m----> 6\u001b[1;33m     \u001b[0mvar\u001b[0m\u001b[1;33m=\u001b[0m\u001b[0msum\u001b[0m\u001b[1;33m(\u001b[0m\u001b[0ma\u001b[0m\u001b[1;33m)\u001b[0m\u001b[1;33m\u001b[0m\u001b[1;33m\u001b[0m\u001b[0m\n\u001b[0m\u001b[0;32m      7\u001b[0m     \u001b[0mprint\u001b[0m\u001b[1;33m(\u001b[0m\u001b[0mt\u001b[0m\u001b[1;33m-\u001b[0m\u001b[0mvar\u001b[0m\u001b[1;33m)\u001b[0m\u001b[1;33m\u001b[0m\u001b[1;33m\u001b[0m\u001b[0m\n\u001b[0;32m      8\u001b[0m \u001b[0ma\u001b[0m \u001b[1;33m=\u001b[0m \u001b[1;33m[\u001b[0m\u001b[1;36m1\u001b[0m\u001b[1;33m,\u001b[0m\u001b[1;36m2\u001b[0m\u001b[1;33m,\u001b[0m\u001b[1;36m3\u001b[0m\u001b[1;33m,\u001b[0m\u001b[1;36m4\u001b[0m\u001b[1;33m,\u001b[0m\u001b[1;36m5\u001b[0m\u001b[1;33m,\u001b[0m\u001b[1;36m6\u001b[0m\u001b[1;33m,\u001b[0m\u001b[1;36m8\u001b[0m\u001b[1;33m]\u001b[0m\u001b[1;33m\u001b[0m\u001b[1;33m\u001b[0m\u001b[0m\n",
      "\u001b[1;31mTypeError\u001b[0m: 'int' object is not callable"
     ]
    }
   ],
   "source": [
    "def mis(a):\n",
    "    \n",
    "    n = a[-1]\n",
    "    t = n*(n+1)//2\n",
    "    \n",
    "    var=sum(a)\n",
    "    print(t-var)\n",
    "a = [1,2,3,4,5,6,8]\n",
    "mis(a)"
   ]
  },
  {
   "cell_type": "code",
   "execution_count": 8,
   "metadata": {},
   "outputs": [
    {
     "name": "stdout",
     "output_type": "stream",
     "text": [
      "value of pair 3  &  8\n",
      "value of pair 5  &  6\n"
     ]
    }
   ],
   "source": [
    "def two_sum(arr,sum):\n",
    "    arr.sort()\n",
    "    left=0\n",
    "    right=len(arr)-1\n",
    "    while(left<=right):\n",
    "        if(arr[left]+arr[right]<sum):\n",
    "            left=left+1\n",
    "        elif(arr[left]+arr[right]>sum):\n",
    "            right=right-1\n",
    "        elif(arr[left]+arr[right]== sum):\n",
    "            print(\"value of pair\", arr[left],\" & \",arr[right])\n",
    "            left=left+1\n",
    "            right=right-1\n",
    "            \n",
    "arr = [1,2,3,5,6,7,8]\n",
    "sum = 11\n",
    "two_sum(arr,sum)"
   ]
  },
  {
   "cell_type": "code",
   "execution_count": 28,
   "metadata": {},
   "outputs": [
    {
     "name": "stdout",
     "output_type": "stream",
     "text": [
      "4\n"
     ]
    }
   ],
   "source": [
    "class Node:\n",
    "    def __init__(self,key):\n",
    "        self.data = key\n",
    "        self.left = None\n",
    "        self.right = None\n",
    "\n",
    "def height_tree(A):\n",
    "    if (A == None):\n",
    "        return 0\n",
    "    else:\n",
    "        ldepth = height_tree(A.left)\n",
    "        rdepth = height_tree(A.right)\n",
    "\n",
    "        if (ldepth>rdepth):\n",
    "            return (1 + ldepth)\n",
    "        else:\n",
    "            return (1 + rdepth)\n",
    "        \n",
    "root = Node(1)\n",
    "root.left = Node(2)\n",
    "root.right = Node(3)\n",
    "root.left.left = Node(4)\n",
    "root.left.right = Node(5)\n",
    "root.left.left.left = Node(7)\n",
    "root.right.right = Node(6)\n",
    "\n",
    "print(height_tree(root))"
   ]
  },
  {
   "cell_type": "code",
   "execution_count": 30,
   "metadata": {},
   "outputs": [
    {
     "name": "stdout",
     "output_type": "stream",
     "text": [
      "2\n"
     ]
    }
   ],
   "source": [
    "class Node:\n",
    "    def __init__(self,key):\n",
    "        self.data = key\n",
    "        self.left = None\n",
    "        self.right = None\n",
    "\n",
    "def min_height(A):\n",
    "    if (A == None):\n",
    "        return 0\n",
    "    else :\n",
    "        ldepth = min_height(A.left)\n",
    "        rdepth = min_height(A.right)\n",
    "\n",
    "        if (ldepth > rdepth):\n",
    "            return (1 + rdepth)\n",
    "        else:\n",
    "            return (1 + ldepth)\n",
    "\n",
    "root = Node(1)\n",
    "root.left = Node(2)\n",
    "root.right = Node(3)\n",
    "root.left.left = Node(4)\n",
    "root.left.right = Node(5)\n",
    "root.left.left.right = Node(7)\n",
    "root.right.right = Node(6)\n",
    "\n",
    "print(min_height(root))\n"
   ]
  },
  {
   "cell_type": "code",
   "execution_count": 47,
   "metadata": {},
   "outputs": [
    {
     "name": "stdout",
     "output_type": "stream",
     "text": [
      "1\n"
     ]
    }
   ],
   "source": [
    "def min_diff(arr):\n",
    "    arr = sorted(arr)\n",
    "    min_dif = 9999*99\n",
    "    size = len(arr)\n",
    "\n",
    "    for i in range(size-1):\n",
    "        if (arr[i+1] - arr[i] < min_dif):\n",
    "            min_dif = arr[i+1] - arr[i]\n",
    "    return min_dif\n",
    "\n",
    "# arr = [1,4,5,7,90]\n",
    "arr = [90,70,5,4,1]\n",
    "print(min_diff(arr))"
   ]
  },
  {
   "cell_type": "code",
   "execution_count": 48,
   "metadata": {},
   "outputs": [
    {
     "name": "stdout",
     "output_type": "stream",
     "text": [
      "1\n"
     ]
    }
   ],
   "source": [
    "def max_diff(arr):\n",
    "    arr.sort()\n",
    "    size = len(arr)\n",
    "    max_d = -9999*9\n",
    "\n",
    "    for i in range(size-1):\n",
    "        if (arr[i+1] - arr[i])"
   ]
  },
  {
   "cell_type": "code",
   "execution_count": 36,
   "metadata": {},
   "outputs": [
    {
     "name": "stdout",
     "output_type": "stream",
     "text": [
      "maximum depth is  4\n",
      "minimum depth is  2\n"
     ]
    }
   ],
   "source": [
    "class Node:\n",
    "    def __init__(self, key):\n",
    "        self.data = key\n",
    "        self.left = None \n",
    "        self.right = None\n",
    "\n",
    "def max_node(A):\n",
    "    if (A == None):\n",
    "        return 0\n",
    "    else:\n",
    "        ldepth = max_node(A.left)\n",
    "        rdepth = max_node(A.right)\n",
    "\n",
    "        if (ldepth > rdepth):\n",
    "            return (1+ldepth)\n",
    "        else:\n",
    "            return (1+rdepth)\n",
    "        \n",
    "def min_node(A):\n",
    "    if (A == None):\n",
    "        return 0\n",
    "    else:\n",
    "        ldepth = min_node(A.left)\n",
    "        rdepth = min_node(A.right)\n",
    "\n",
    "        if (ldepth > rdepth):\n",
    "            return (1+rdepth)\n",
    "        else:\n",
    "            return (1+ldepth)\n",
    "        \n",
    "root = Node(1)\n",
    "root.left = Node(2)\n",
    "root.right = Node(3)\n",
    "root.left.right = Node(4)\n",
    "root.left.left = Node(5)\n",
    "root.right.right = Node(6)\n",
    "root.left.left.right = Node(7)\n",
    "\n",
    "print(\"maximum depth is \", max_node(root))\n",
    "print(\"minimum depth is \",min_node(root))"
   ]
  },
  {
   "cell_type": "code",
   "execution_count": 11,
   "metadata": {},
   "outputs": [
    {
     "name": "stdout",
     "output_type": "stream",
     "text": [
      "120\n"
     ]
    }
   ],
   "source": [
    "n = 5\n",
    "f = 1\n",
    "\n",
    "if n< 0:\n",
    "    print(\"not valid\")\n",
    "else:\n",
    "    for i in range(1, n+1):\n",
    "        f = f*i\n",
    "        \n",
    "\n",
    "print(f)\n"
   ]
  },
  {
   "cell_type": "code",
   "execution_count": 13,
   "metadata": {},
   "outputs": [
    {
     "name": "stdout",
     "output_type": "stream",
     "text": [
      "120\n"
     ]
    }
   ],
   "source": [
    "def fac(n):\n",
    "    if n == 0:\n",
    "        return 1\n",
    "    return n *fac(n-1)\n",
    "\n",
    "n = 5\n",
    "v = fac(n)\n",
    "print(v)"
   ]
  },
  {
   "cell_type": "code",
   "execution_count": 15,
   "metadata": {},
   "outputs": [
    {
     "name": "stdout",
     "output_type": "stream",
     "text": [
      "0\n",
      "1\n",
      "1\n",
      "2\n",
      "3\n",
      "5\n"
     ]
    }
   ],
   "source": [
    "n1 = 0\n",
    "n2 = 1\n",
    "print(n1)\n",
    "print(n2)\n",
    "for i in range(1, 5):\n",
    "    s = n1+n2\n",
    "    print(s)\n",
    "    n1 = n2\n",
    "    n2 = s"
   ]
  },
  {
   "cell_type": "code",
   "execution_count": 17,
   "metadata": {},
   "outputs": [
    {
     "name": "stdout",
     "output_type": "stream",
     "text": [
      "maximum number is  87\n",
      "minimum number is  1\n"
     ]
    }
   ],
   "source": [
    "arr = [1,27,29,20,39,87]\n",
    "max = arr[0]\n",
    "min = arr[0]\n",
    "n = len(arr)\n",
    "\n",
    "for i in range(1, n):\n",
    "    if arr[i]> max:\n",
    "        max = arr[i]\n",
    "print(\"maximum number is \",max)\n",
    "\n",
    "for i in range(1, n):\n",
    "    if arr[i]<min:\n",
    "        min = arr[i]\n",
    "print(\"minimum number is \",min)"
   ]
  },
  {
   "cell_type": "code",
   "execution_count": 18,
   "metadata": {},
   "outputs": [
    {
     "name": "stdout",
     "output_type": "stream",
     "text": [
      "12\n"
     ]
    }
   ],
   "source": [
    "ar = [1,2,3,4,3,4,5,4,3,3,3,5]\n",
    "c =0\n",
    "for i in ar:\n",
    "    c = c+1\n",
    "print(c)"
   ]
  },
  {
   "cell_type": "code",
   "execution_count": 26,
   "metadata": {},
   "outputs": [
    {
     "name": "stdout",
     "output_type": "stream",
     "text": [
      "[6, 2, 3, 4, 5, 1]\n"
     ]
    }
   ],
   "source": [
    "arr = [1,2,3,4,5,6]\n",
    "s = len(arr)\n",
    "\n",
    "# t = arr[0]\n",
    "# arr[0] = arr[s-1]\n",
    "# arr[s-1] = t\n",
    "\n",
    "# arr[0], arr[-1] = arr[-1], arr[0]\n",
    "\n",
    "# get = (arr[-1], arr[0])\n",
    "# arr[0],arr[-1] = get \n",
    "\n",
    "# f = arr.pop(0)\n",
    "# l = arr.pop(-1)\n",
    "# arr.insert(0,l)\n",
    "# arr.append(f)\n",
    "\n",
    "start,*middle,end = arr\n",
    "arr = [end,*middle,start]\n",
    "\n",
    "print(arr)"
   ]
  },
  {
   "cell_type": "code",
   "execution_count": 28,
   "metadata": {},
   "outputs": [
    {
     "name": "stdout",
     "output_type": "stream",
     "text": [
      "['geeks', 'for']\n"
     ]
    }
   ],
   "source": [
    "arr = [\"geeks\", \"for\",\"geeks\"]\n",
    "word = \"geeks\"\n",
    "count =0 \n",
    "n = 2\n",
    "\n",
    "for i in range(0,len(arr)):\n",
    "    if (arr[i]==word):\n",
    "        count = count+1\n",
    "        if (count ==n ):\n",
    "            del arr[i]\n",
    "\n",
    "print(arr)"
   ]
  },
  {
   "cell_type": "code",
   "execution_count": 3,
   "metadata": {},
   "outputs": [
    {
     "name": "stdout",
     "output_type": "stream",
     "text": [
      "element not found\n"
     ]
    }
   ],
   "source": [
    "arr = [1,2,3,4,5,6,7,9]\n",
    "a = 10\n",
    "f = 0\n",
    "for i in arr:\n",
    "    if i == a:\n",
    "        f = 1\n",
    "    \n",
    "if (f ==1):\n",
    "     print(\"element found\")\n",
    "else:\n",
    "    print(\"element not found\")"
   ]
  },
  {
   "cell_type": "code",
   "execution_count": null,
   "metadata": {},
   "outputs": [],
   "source": [
    "n = 10\n",
    "n1 = 0\n",
    "n1 = 1\n",
    "\n",
    "print(1)"
   ]
  },
  {
   "cell_type": "code",
   "execution_count": 7,
   "metadata": {},
   "outputs": [
    {
     "name": "stdout",
     "output_type": "stream",
     "text": [
      "4 is not a prime number.\n"
     ]
    }
   ],
   "source": [
    "def is_prime(n):\n",
    "    if n <= 1:\n",
    "        return False\n",
    "    for i in range(2, n):\n",
    "        if n % i == 0:\n",
    "            return False\n",
    "    return True\n",
    "\n",
    "# Example usage\n",
    "number = 4\n",
    "\n",
    "if is_prime(number):\n",
    "    print(f\"{number} is a prime number.\")\n",
    "else:\n",
    "    print(f\"{number} is not a prime number.\")\n"
   ]
  },
  {
   "cell_type": "code",
   "execution_count": null,
   "metadata": {},
   "outputs": [],
   "source": []
  }
 ],
 "metadata": {
  "kernelspec": {
   "display_name": "base",
   "language": "python",
   "name": "python3"
  },
  "language_info": {
   "codemirror_mode": {
    "name": "ipython",
    "version": 3
   },
   "file_extension": ".py",
   "mimetype": "text/x-python",
   "name": "python",
   "nbconvert_exporter": "python",
   "pygments_lexer": "ipython3",
   "version": "3.9.13"
  }
 },
 "nbformat": 4,
 "nbformat_minor": 2
}
