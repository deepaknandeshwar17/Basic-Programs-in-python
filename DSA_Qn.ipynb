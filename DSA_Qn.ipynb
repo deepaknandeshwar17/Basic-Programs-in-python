{
 "cells": [
  {
   "cell_type": "markdown",
   "metadata": {},
   "source": [
    "# ***To Find Minimum and Maximum of an array using minimum number of Comparisons***"
   ]
  },
  {
   "cell_type": "code",
   "execution_count": 16,
   "metadata": {},
   "outputs": [
    {
     "name": "stdout",
     "output_type": "stream",
     "text": [
      "The minimum is 20 and the maximum is 10000\n"
     ]
    }
   ],
   "source": [
    "\n",
    "# a = max(n)\n",
    "# b = min(n)\n",
    "# print(b)\n",
    "# print(a)\n",
    "\n",
    "\n",
    "\n",
    "# def mm(n):\n",
    "#     mn = n[0]\n",
    "#     mx = n[0]\n",
    "#     for i in n[1:]:\n",
    "#         if i<mn:\n",
    "#             mn = i\n",
    "#         if i>mx:\n",
    "#             mx = i\n",
    "#     return mn ,mx\n",
    "\n",
    "# n = [1,2,3,4,5,6]\n",
    "# mmn,mmx = mm(n)\n",
    "# print(mn,mx)\n",
    "\n",
    "\n",
    "\n",
    "\n",
    "\n",
    "def findminmax(arr):\n",
    "    n = len(arr)\n",
    "\n",
    "    if n%2==0:\n",
    "        if arr[0] > arr[1]:\n",
    "            maxi = arr[0]\n",
    "            mini = arr[1]\n",
    "        else:\n",
    "            maxi = arr[1]\n",
    "            mini = arr[0]\n",
    "        i = 2\n",
    "    else:\n",
    "        maxi = arr[0]\n",
    "        mini = arr[0]\n",
    "        i = 1\n",
    "\n",
    "    while i < n-1:\n",
    "        if arr[i] > arr[i+1]:\n",
    "            maxi = max(maxi, arr[i])\n",
    "            mini = min(mini, arr[i+1])\n",
    "        else:\n",
    "            maxi = max(maxi, arr[i+1])\n",
    "            mini = min(mini, arr[i])\n",
    "        i=i+2\n",
    "    return mini,maxi\n",
    "\n",
    "arr = [303,20,3499,289,72,927,10000]\n",
    "mini, maxi = findminmax(arr)\n",
    "print(f'The minimum is {mini} and the maximum is {maxi}')\n",
    "\n"
   ]
  },
  {
   "cell_type": "markdown",
   "metadata": {},
   "source": [
    "# ***Array Reverse***"
   ]
  },
  {
   "cell_type": "code",
   "execution_count": 7,
   "metadata": {},
   "outputs": [
    {
     "name": "stdout",
     "output_type": "stream",
     "text": [
      "[5, 4, 3, 2, 1]\n"
     ]
    }
   ],
   "source": [
    "\n",
    "\n",
    "def revarr(a):\n",
    "    start = 0\n",
    "    end = len(a)-1\n",
    "\n",
    "    while start < end:\n",
    "        a[start], a[end] = a[end], a[start]\n",
    "        start = start + 1\n",
    "        end = end - 1\n",
    "    return a\n",
    "a = [1,2,3,4,5]\n",
    "# revarr(a)\n",
    "print(f'{revarr(a)}')\n",
    "\n"
   ]
  },
  {
   "cell_type": "markdown",
   "metadata": {},
   "source": [
    "# ***Maximum Subarray***"
   ]
  },
  {
   "cell_type": "code",
   "execution_count": 19,
   "metadata": {},
   "outputs": [
    {
     "name": "stdout",
     "output_type": "stream",
     "text": [
      "23\n"
     ]
    }
   ],
   "source": [
    "\n",
    "\n",
    "def maxarr(arr):\n",
    "    current_array = final_array = arr[0]\n",
    "\n",
    "    for i in arr[1:]:\n",
    "        current_array = max(i, current_array+i)\n",
    "        final_array = max(final_array,current_array)\n",
    "    return final_array\n",
    "\n",
    "arr = [5,4,-1,7,8]\n",
    "print(maxarr(arr))\n"
   ]
  },
  {
   "cell_type": "markdown",
   "metadata": {},
   "source": [
    "# ***Contain Duplicate***"
   ]
  },
  {
   "cell_type": "code",
   "execution_count": 27,
   "metadata": {},
   "outputs": [
    {
     "name": "stdout",
     "output_type": "stream",
     "text": [
      "True\n"
     ]
    }
   ],
   "source": [
    " \n",
    "def duplicat(nums):\n",
    "    seen = set()\n",
    "\n",
    "    for num in nums:\n",
    "        if num in seen:\n",
    "            return True\n",
    "        seen.add(num)\n",
    "    return False\n",
    "\n",
    "nums = [1,2,3,4,5,1]\n",
    "print(duplicat(nums))"
   ]
  },
  {
   "cell_type": "markdown",
   "metadata": {},
   "source": [
    "# ***Search in Rotated Sorted Array***"
   ]
  },
  {
   "cell_type": "code",
   "execution_count": 19,
   "metadata": {},
   "outputs": [
    {
     "name": "stdout",
     "output_type": "stream",
     "text": [
      "6\n"
     ]
    }
   ],
   "source": [
    "def search(nums, target):\n",
    "    \n",
    "    left, right = 0, len(nums) - 1\n",
    "    \n",
    "    while left <= right:\n",
    "        mid = left + (right - left) // 2\n",
    "        \n",
    "       \n",
    "        if nums[mid] == target:\n",
    "            return mid\n",
    "        \n",
    "        \n",
    "        if nums[left] <= nums[mid]: \n",
    "            if nums[left] <= target < nums[mid]: \n",
    "                right = mid - 1\n",
    "            else: \n",
    "                left = mid + 1\n",
    "        else:  \n",
    "            if nums[mid] < target <= nums[right]:  \n",
    "                left = mid + 1\n",
    "            else:  \n",
    "                right = mid - 1\n",
    "    \n",
    "    return -1 \n",
    "\n",
    "nums = [4, 5, 6, 7, 0, 1, 2]\n",
    "target = 2\n",
    "\n",
    "print(search(nums, target))"
   ]
  },
  {
   "cell_type": "markdown",
   "metadata": {},
   "source": [
    "# ***Keyboard Row***"
   ]
  },
  {
   "cell_type": "code",
   "execution_count": 2,
   "metadata": {},
   "outputs": [
    {
     "name": "stdout",
     "output_type": "stream",
     "text": [
      "['Alaska', 'Dad', 'vbnm']\n"
     ]
    }
   ],
   "source": [
    "def findword(words):\n",
    "\n",
    "    l1 = 'qwertyuiop'\n",
    "    l2 = 'asdfghjkl'\n",
    "    l3 = 'zxcvbnm'\n",
    "\n",
    "    result = []\n",
    "\n",
    "    for word in words:\n",
    "        w = set(word.lower())\n",
    "        \n",
    "        if w.issubset(l1) or w.issubset(l2) or w.issubset(l3):\n",
    "            result.append(word)\n",
    "        \n",
    "    return result\n",
    "\n",
    "words = [\"Hello\", \"Alaska\", \"Dad\", \"Peace\", \"vbnm\"]\n",
    "print(findword(words))\n"
   ]
  }
 ],
 "metadata": {
  "kernelspec": {
   "display_name": "base",
   "language": "python",
   "name": "python3"
  },
  "language_info": {
   "codemirror_mode": {
    "name": "ipython",
    "version": 3
   },
   "file_extension": ".py",
   "mimetype": "text/x-python",
   "name": "python",
   "nbconvert_exporter": "python",
   "pygments_lexer": "ipython3",
   "version": "3.9.13"
  }
 },
 "nbformat": 4,
 "nbformat_minor": 2
}
