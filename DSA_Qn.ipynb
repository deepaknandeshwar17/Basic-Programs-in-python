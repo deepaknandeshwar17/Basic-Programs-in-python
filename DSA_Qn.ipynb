{
 "cells": [
  {
   "cell_type": "code",
   "execution_count": 16,
   "metadata": {},
   "outputs": [
    {
     "name": "stdout",
     "output_type": "stream",
     "text": [
      "The minimum is 20 and the maximum is 10000\n"
     ]
    }
   ],
   "source": [
    "# To Find Minimum and Maximum of an array using minimum number of Comparisons\n",
    "\n",
    "\n",
    "# a = max(n)\n",
    "# b = min(n)\n",
    "# print(b)\n",
    "# print(a)\n",
    "\n",
    "\n",
    "\n",
    "# def mm(n):\n",
    "#     mn = n[0]\n",
    "#     mx = n[0]\n",
    "#     for i in n[1:]:\n",
    "#         if i<mn:\n",
    "#             mn = i\n",
    "#         if i>mx:\n",
    "#             mx = i\n",
    "#     return mn ,mx\n",
    "\n",
    "# n = [1,2,3,4,5,6]\n",
    "# mmn,mmx = mm(n)\n",
    "# print(mn,mx)\n",
    "\n",
    "\n",
    "\n",
    "\n",
    "\n",
    "def findminmax(arr):\n",
    "    n = len(arr)\n",
    "\n",
    "    if n%2==0:\n",
    "        if arr[0] > arr[1]:\n",
    "            maxi = arr[0]\n",
    "            mini = arr[1]\n",
    "        else:\n",
    "            maxi = arr[1]\n",
    "            mini = arr[0]\n",
    "        i = 2\n",
    "    else:\n",
    "        maxi = arr[0]\n",
    "        mini = arr[0]\n",
    "        i = 1\n",
    "\n",
    "    while i < n-1:\n",
    "        if arr[i] > arr[i+1]:\n",
    "            maxi = max(maxi, arr[i])\n",
    "            mini = min(mini, arr[i+1])\n",
    "        else:\n",
    "            maxi = max(maxi, arr[i+1])\n",
    "            mini = min(mini, arr[i])\n",
    "        i=i+2\n",
    "    return mini,maxi\n",
    "\n",
    "arr = [303,20,3499,289,72,927,10000]\n",
    "mini, maxi = findminmax(arr)\n",
    "print(f'The minimum is {mini} and the maximum is {maxi}')\n",
    "\n"
   ]
  },
  {
   "cell_type": "code",
   "execution_count": 7,
   "metadata": {},
   "outputs": [
    {
     "name": "stdout",
     "output_type": "stream",
     "text": [
      "[5, 4, 3, 2, 1]\n"
     ]
    }
   ],
   "source": [
    "# Array Reverse\n",
    "\n",
    "def revarr(a):\n",
    "    start = 0\n",
    "    end = len(a)-1\n",
    "\n",
    "    while start < end:\n",
    "        a[start], a[end] = a[end], a[start]\n",
    "        start = start + 1\n",
    "        end = end - 1\n",
    "    return a\n",
    "a = [1,2,3,4,5]\n",
    "# revarr(a)\n",
    "print(f'{revarr(a)}')\n",
    "\n"
   ]
  }
 ],
 "metadata": {
  "kernelspec": {
   "display_name": "base",
   "language": "python",
   "name": "python3"
  },
  "language_info": {
   "codemirror_mode": {
    "name": "ipython",
    "version": 3
   },
   "file_extension": ".py",
   "mimetype": "text/x-python",
   "name": "python",
   "nbconvert_exporter": "python",
   "pygments_lexer": "ipython3",
   "version": "3.9.13"
  }
 },
 "nbformat": 4,
 "nbformat_minor": 2
}
