{
 "cells": [
  {
   "cell_type": "code",
   "execution_count": 1,
   "metadata": {},
   "outputs": [
    {
     "name": "stdout",
     "output_type": "stream",
     "text": [
      "My name is Goku,and i am a Fighter,along with Vegeta\n",
      "Goku is a Fighter\n"
     ]
    }
   ],
   "source": [
    "class dee():  \n",
    "    name = \"Goku\"\n",
    "    occupation = \"Fighter\"\n",
    "    friend = \"Vegeta\"\n",
    "    def info(self):\n",
    "        print(f\"{self.name} is a {self.occupation}\")\n",
    "    \n",
    "a = dee()\n",
    "print(f\"My name is {a.name},and i am a {a.occupation},along with {a.friend}\")\n",
    "a.info()"
   ]
  },
  {
   "cell_type": "code",
   "execution_count": 2,
   "metadata": {},
   "outputs": [
    {
     "name": "stdout",
     "output_type": "stream",
     "text": [
      "Goku is a strongest fighter with power level of 9000\n"
     ]
    }
   ],
   "source": [
    "class db():\n",
    "\n",
    "    def __init__(self,n,o,p):\n",
    "        self.name = n\n",
    "        self.occ = o\n",
    "        self.power = p\n",
    "\n",
    "    def info(self):\n",
    "        print(f\"{self.name} is a strongest {self.occ} with power level of {self.power}\")\n",
    "\n",
    "x = db(\"Goku\",\"fighter\",9000)\n",
    "x.info()"
   ]
  },
  {
   "cell_type": "code",
   "execution_count": 1,
   "metadata": {},
   "outputs": [
    {
     "name": "stdout",
     "output_type": "stream",
     "text": [
      "The number of unique elements is 2, and the array now is [1, 2]\n"
     ]
    }
   ],
   "source": [
    "def remove_duplicates(nums):\n",
    "    if not nums:\n",
    "        return 0\n",
    "\n",
    "    j = 0\n",
    "    for i in range(1, len(nums)):\n",
    "        if nums[i] != nums[j]:\n",
    "            j += 1\n",
    "            nums[j] = nums[i]\n",
    "    \n",
    "    return j + 1\n",
    "\n",
    "# Example usage\n",
    "nums = [1, 1, 2]\n",
    "length = remove_duplicates(nums)\n",
    "print(f\"The number of unique elements is {length}, and the array now is {nums[:length]}\")\n"
   ]
  },
  {
   "cell_type": "code",
   "execution_count": 2,
   "metadata": {},
   "outputs": [
    {
     "name": "stdout",
     "output_type": "stream",
     "text": [
      "2, [1, 2]\n"
     ]
    }
   ],
   "source": [
    "def remove_nums(num):\n",
    "    j =0\n",
    "    for i in range(1,len(num)):\n",
    "        if num[i] != num[j]:\n",
    "            j+=1\n",
    "            num[j] = num[i]\n",
    "    return j+1\n",
    "\n",
    "num =[1,1,2]\n",
    "length =remove_nums(num)\n",
    "print(f'{length}, {num[:length]}')"
   ]
  },
  {
   "cell_type": "code",
   "execution_count": 4,
   "metadata": {},
   "outputs": [
    {
     "name": "stdout",
     "output_type": "stream",
     "text": [
      "3, [1, 2, 3]\n"
     ]
    }
   ],
   "source": [
    "def rem(n):\n",
    "    j=0\n",
    "    for i in range(1,len(n)):\n",
    "        if n[i]!= n[j]:\n",
    "            j+=1\n",
    "            n[j] = n[i]\n",
    "    return j+1\n",
    "\n",
    "n =[1,2,2,3,3]\n",
    "length = rem(n)\n",
    "print(f'{length}, {n[:length]}')\n",
    "    "
   ]
  },
  {
   "cell_type": "code",
   "execution_count": 5,
   "metadata": {},
   "outputs": [
    {
     "name": "stdout",
     "output_type": "stream",
     "text": [
      "6\n"
     ]
    }
   ],
   "source": [
    "a = lambda x,y,z:x+y+z\n",
    "print(a(1,2,3))"
   ]
  },
  {
   "cell_type": "code",
   "execution_count": 8,
   "metadata": {},
   "outputs": [
    {
     "name": "stdout",
     "output_type": "stream",
     "text": [
      "Error: Invalid input. Please enter a valid integer.\n",
      "This block always executes, whether an exception occurred or not.\n"
     ]
    }
   ],
   "source": [
    "try:\n",
    "    numerator = int(input(\"Enter the numerator: \"))\n",
    "    denominator = int(input(\"Enter the denominator: \"))\n",
    "    result = numerator / denominator\n",
    "except ZeroDivisionError:\n",
    "    print(\"Error: Cannot divide by zero.\")\n",
    "except ValueError:\n",
    "    print(\"Error: Invalid input. Please enter a valid integer.\")\n",
    "else:\n",
    "    print(f\"The result is {result}\")\n",
    "finally:\n",
    "    print(\"This block always executes, whether an exception occurred or not.\")\n"
   ]
  },
  {
   "cell_type": "code",
   "execution_count": 15,
   "metadata": {},
   "outputs": [
    {
     "name": "stdout",
     "output_type": "stream",
     "text": [
      "1\n",
      "3\n",
      "5\n"
     ]
    }
   ],
   "source": [
    "c = 0\n",
    "while c < 10:\n",
    "    c+=1\n",
    "    if c == 6:\n",
    "        break\n",
    "    if c%2==0:\n",
    "        continue\n",
    "    print(c)"
   ]
  },
  {
   "cell_type": "code",
   "execution_count": 16,
   "metadata": {},
   "outputs": [
    {
     "name": "stdout",
     "output_type": "stream",
     "text": [
      "4 x 1 = 4\n",
      "4 x 2 = 8\n",
      "4 x 3 = 12\n",
      "4 x 4 = 16\n",
      "4 x 5 = 20\n",
      "4 x 6 = 24\n",
      "4 x 7 = 28\n",
      "4 x 8 = 32\n",
      "4 x 9 = 36\n",
      "4 x 10 = 40\n"
     ]
    }
   ],
   "source": [
    "n = int(input())\n",
    "\n",
    "for i in range(1,11):\n",
    "    print(f'{n} x {i} = {n*i}')"
   ]
  },
  {
   "cell_type": "code",
   "execution_count": 80,
   "metadata": {},
   "outputs": [
    {
     "name": "stdout",
     "output_type": "stream",
     "text": [
      "Hlo ann bhai\n",
      "Hlo add bhai\n",
      "Hlo aff bhai\n",
      "There are 3 letters starts with a\n"
     ]
    }
   ],
   "source": [
    "l = ['ann','sdd','add','de','aff']\n",
    "c = 0\n",
    "for n in l:\n",
    "    if n.startswith('a'):\n",
    "        print(f'Hlo {n} bhai')\n",
    "        c=c+1\n",
    "print(f'There are {c} letters starts with a')"
   ]
  },
  {
   "cell_type": "code",
   "execution_count": 18,
   "metadata": {},
   "outputs": [
    {
     "name": "stdout",
     "output_type": "stream",
     "text": [
      "3 x 1 = 3\n",
      "3 x 2 = 6\n",
      "3 x 3 = 9\n",
      "3 x 4 = 12\n",
      "3 x 5 = 15\n",
      "3 x 6 = 18\n",
      "3 x 7 = 21\n",
      "3 x 8 = 24\n",
      "3 x 9 = 27\n",
      "3 x 10 = 30\n"
     ]
    }
   ],
   "source": [
    "# Multiplication Table\n",
    "\n",
    "n = int(input())\n",
    "\n",
    "i = 1\n",
    "while(i<11):\n",
    "    print(f'{n} x {i} = {n*i}')\n",
    "    i+=1\n",
    "    "
   ]
  },
  {
   "cell_type": "code",
   "execution_count": 24,
   "metadata": {},
   "outputs": [
    {
     "name": "stdout",
     "output_type": "stream",
     "text": [
      "Not a Leap Year\n"
     ]
    }
   ],
   "source": [
    "# Leap Year\n",
    "\n",
    "year = int(input())\n",
    "if (year % 4 == 0 and year % 100 != 0) or (year % 400 ==0):\n",
    "   print(\"Leap Year\")\n",
    "else:\n",
    "    print(\"Not a Leap Year\")"
   ]
  },
  {
   "cell_type": "code",
   "execution_count": 38,
   "metadata": {},
   "outputs": [
    {
     "name": "stdout",
     "output_type": "stream",
     "text": [
      "Not Prime\n"
     ]
    }
   ],
   "source": [
    "# Prime Number\n",
    "\n",
    "n = int(input())\n",
    "\n",
    "for i in range(2, n):\n",
    "    if (n%i) == 0:\n",
    "        print(\"Not Prime\")\n",
    "        break\n",
    "else:\n",
    "    print('Prime')"
   ]
  },
  {
   "cell_type": "code",
   "execution_count": 1,
   "metadata": {},
   "outputs": [
    {
     "name": "stdout",
     "output_type": "stream",
     "text": [
      "10\n"
     ]
    }
   ],
   "source": [
    "# Sum of n integers\n",
    "\n",
    "n = int(input())\n",
    "i = 1\n",
    "sum = 0\n",
    "while (i<=n):\n",
    "    sum = sum+i\n",
    "    i = i+1\n",
    "\n",
    "print(sum)"
   ]
  },
  {
   "cell_type": "code",
   "execution_count": 97,
   "metadata": {},
   "outputs": [
    {
     "name": "stdout",
     "output_type": "stream",
     "text": [
      "6\n"
     ]
    }
   ],
   "source": [
    "n = int(input())\n",
    "t =0\n",
    "for i in range(1,n+1):\n",
    "    t=t+i\n",
    "print(t)"
   ]
  },
  {
   "cell_type": "code",
   "execution_count": 46,
   "metadata": {},
   "outputs": [
    {
     "name": "stdout",
     "output_type": "stream",
     "text": [
      "24\n"
     ]
    }
   ],
   "source": [
    "# Factorial of a number\n",
    "\n",
    "n = int(input())\n",
    "product = 1\n",
    "for i in range(1, n+1):\n",
    "    product = product* i\n",
    "\n",
    "print(product)"
   ]
  },
  {
   "cell_type": "code",
   "execution_count": 50,
   "metadata": {},
   "outputs": [
    {
     "name": "stdout",
     "output_type": "stream",
     "text": [
      "120\n"
     ]
    }
   ],
   "source": [
    "# Factorial using recursion\n",
    "\n",
    "n = int(input())\n",
    "def fact(n):\n",
    "    if n == 0 or n ==1 :\n",
    "        return 1\n",
    "    return n*fact(n-1)\n",
    "print(fact(n))"
   ]
  },
  {
   "cell_type": "code",
   "execution_count": 76,
   "metadata": {},
   "outputs": [
    {
     "name": "stdout",
     "output_type": "stream",
     "text": [
      "3 x 1 = 3\n",
      "3 x 2 = 6\n",
      "3 x 3 = 9\n",
      "3 x 4 = 12\n",
      "3 x 5 = 15\n",
      "3 x 6 = 18\n",
      "3 x 7 = 21\n",
      "3 x 8 = 24\n",
      "3 x 9 = 27\n",
      "3 x 10 = 30\n"
     ]
    }
   ],
   "source": [
    "n = int(input())\n",
    "i=1\n",
    "while i<11:\n",
    "    print(f'{n} x {i} = {n*i}')\n",
    "    i=i+1"
   ]
  },
  {
   "cell_type": "code",
   "execution_count": 81,
   "metadata": {},
   "outputs": [
    {
     "name": "stdout",
     "output_type": "stream",
     "text": [
      "          * \n",
      "        * * * \n",
      "      * * * * * \n",
      "    * * * * * * * \n",
      "  * * * * * * * * * \n"
     ]
    }
   ],
   "source": [
    "n = int(input())\n",
    "\n",
    "for i in range(n):\n",
    "    for j in range(i,n):\n",
    "        print(\" \",end=' ')\n",
    "    for j in range(i):\n",
    "        print('*',end=' ')\n",
    "    for j in range(i+1):\n",
    "        print(\"*\",end=' ')\n",
    "    print()"
   ]
  },
  {
   "cell_type": "code",
   "execution_count": 84,
   "metadata": {},
   "outputs": [
    {
     "name": "stdout",
     "output_type": "stream",
     "text": [
      "3 is Greater\n"
     ]
    }
   ],
   "source": [
    "# Greatest of \n",
    "\n",
    "a = int(input())\n",
    "b = int(input())\n",
    "c = int(input())\n",
    "\n",
    "def greatest(a,b,c):\n",
    "    if a>b and a>c:\n",
    "        return (f'{a} is Greater')\n",
    "    elif b>a and b>c:\n",
    "        return (f'{b} is Greater')\n",
    "    else:\n",
    "        return (f'{c} is Greater')\n",
    "\n",
    "print(greatest(a,b,c))"
   ]
  },
  {
   "cell_type": "code",
   "execution_count": 90,
   "metadata": {},
   "outputs": [
    {
     "name": "stdout",
     "output_type": "stream",
     "text": [
      "212.0\n"
     ]
    }
   ],
   "source": [
    "# Celcius to fahrenheit\n",
    "\n",
    "c = int(input())\n",
    "\n",
    "def cel_to_far(c):\n",
    "    return (9/5)* c + 32\n",
    "print(cel_to_far(c))"
   ]
  },
  {
   "cell_type": "code",
   "execution_count": 91,
   "metadata": {},
   "outputs": [
    {
     "name": "stdout",
     "output_type": "stream",
     "text": [
      "37.77777777777778\n"
     ]
    }
   ],
   "source": [
    "f = int(input())\n",
    "\n",
    "def f_c(f):\n",
    "    return (f - 32) *5/9\n",
    "\n",
    "print(f_c(f))"
   ]
  },
  {
   "cell_type": "code",
   "execution_count": 93,
   "metadata": {},
   "outputs": [
    {
     "name": "stdout",
     "output_type": "stream",
     "text": [
      "6\n"
     ]
    }
   ],
   "source": [
    "# sum of n numbers using recursion\n",
    "\n",
    "n = int(input())\n",
    "\n",
    "def sum(n):\n",
    "    if n==1:\n",
    "        return 1\n",
    "    return n+sum(n-1)\n",
    "\n",
    "print(sum(n))"
   ]
  },
  {
   "cell_type": "code",
   "execution_count": 100,
   "metadata": {},
   "outputs": [
    {
     "name": "stdout",
     "output_type": "stream",
     "text": [
      "3.81\n"
     ]
    }
   ],
   "source": [
    "# Inches to cm\n",
    "\n",
    "def in_c(n):\n",
    "    return n*2.54\n",
    "\n",
    "n = float(input())\n",
    "print(in_c(n))"
   ]
  },
  {
   "cell_type": "code",
   "execution_count": 102,
   "metadata": {},
   "outputs": [
    {
     "name": "stdout",
     "output_type": "stream",
     "text": [
      "5\n",
      "0\n",
      "1\n",
      "1\n",
      "2\n",
      "3\n"
     ]
    }
   ],
   "source": [
    "# fibonaci series\n",
    "def fib(n):\n",
    "    if n<=1:\n",
    "        return n\n",
    "    else:\n",
    "        return fib(n-1)+fib(n-2)\n",
    "\n",
    "n = int(input())\n",
    "print(fib(n))\n",
    "for i in range(n):\n",
    "    print(fib(i))"
   ]
  },
  {
   "cell_type": "code",
   "execution_count": 107,
   "metadata": {},
   "outputs": [
    {
     "name": "stdout",
     "output_type": "stream",
     "text": [
      "Sorted array: [11, 12, 22, 25, 34, 64, 90]\n"
     ]
    }
   ],
   "source": [
    "def bubble_sort(arr):\n",
    " \n",
    "    n = len(arr)\n",
    "    for i in range(n - 1):\n",
    "        for j in range(0, n - i - 1):\n",
    "            if arr[j] > arr[j + 1]:\n",
    "                arr[j], arr[j + 1] = arr[j + 1], arr[j]\n",
    "arr = [64, 34, 25, 12, 22, 11, 90]\n",
    "bubble_sort(arr)\n",
    "print(\"Sorted array:\", arr)"
   ]
  },
  {
   "cell_type": "code",
   "execution_count": 111,
   "metadata": {},
   "outputs": [
    {
     "name": "stdout",
     "output_type": "stream",
     "text": [
      "[1, 2, 3, 4, 5, 7]\n"
     ]
    }
   ],
   "source": [
    "def bub(arr):\n",
    "    n=len(arr)\n",
    "    for i in range(n-1):\n",
    "        for j in range(0,n-i-1):\n",
    "            if arr[j]>arr[j+1]:\n",
    "                arr[j],arr[j+1]=arr[j+1],arr[j]\n",
    "\n",
    "arr= [1,4,5,3,7,2]\n",
    "bub(arr)\n",
    "print(arr)"
   ]
  },
  {
   "cell_type": "code",
   "execution_count": 112,
   "metadata": {},
   "outputs": [
    {
     "name": "stdout",
     "output_type": "stream",
     "text": [
      "5\n"
     ]
    }
   ],
   "source": [
    "def vow(s):\n",
    "    vowels='aeiouAEIOU'\n",
    "    c = 0\n",
    "    for i in s:\n",
    "        if i in vowels:\n",
    "            c+=1\n",
    "    return c\n",
    "\n",
    "string = 'How are you'\n",
    "print(vow(string))"
   ]
  },
  {
   "cell_type": "code",
   "execution_count": 113,
   "metadata": {},
   "outputs": [
    {
     "name": "stdout",
     "output_type": "stream",
     "text": [
      "Sorted strings: ['apple', 'banana', 'cherry', 'date', 'elderberry']\n"
     ]
    }
   ],
   "source": [
    "strings = ['apple', 'banana', 'cherry', 'date', 'elderberry']\n",
    "sorted_strings = sorted(strings)\n",
    "print(\"Sorted strings:\", sorted_strings)"
   ]
  },
  {
   "cell_type": "code",
   "execution_count": 2,
   "metadata": {},
   "outputs": [
    {
     "name": "stdout",
     "output_type": "stream",
     "text": [
      "enasni \n"
     ]
    }
   ],
   "source": [
    "str1 = \"insane\"\n",
    "str = \" \"\n",
    "for i in str1:\n",
    "    str = i+str\n",
    "print(str)"
   ]
  }
 ],
 "metadata": {
  "kernelspec": {
   "display_name": "base",
   "language": "python",
   "name": "python3"
  },
  "language_info": {
   "codemirror_mode": {
    "name": "ipython",
    "version": 3
   },
   "file_extension": ".py",
   "mimetype": "text/x-python",
   "name": "python",
   "nbconvert_exporter": "python",
   "pygments_lexer": "ipython3",
   "version": "3.9.13"
  }
 },
 "nbformat": 4,
 "nbformat_minor": 2
}
