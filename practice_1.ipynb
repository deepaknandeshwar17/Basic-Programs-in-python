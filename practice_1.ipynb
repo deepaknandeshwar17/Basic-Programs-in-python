{
 "cells": [
  {
   "cell_type": "code",
   "execution_count": 3,
   "metadata": {},
   "outputs": [
    {
     "name": "stdout",
     "output_type": "stream",
     "text": [
      "[5, 4, 3, 2, 1]\n"
     ]
    }
   ],
   "source": [
    "def rev(arr):\n",
    "    left = 0\n",
    "    right = len(arr)-1\n",
    "\n",
    "    while left < right:\n",
    "        arr[left], arr[right] = arr[right], arr[left]\n",
    "        left += 1\n",
    "        right -= 1\n",
    "\n",
    "    return arr\n",
    "\n",
    "arr = [1,2,3,4,5]\n",
    "print(rev(arr))"
   ]
  },
  {
   "cell_type": "code",
   "execution_count": 9,
   "metadata": {},
   "outputs": [
    {
     "data": {
      "text/plain": [
       "False"
      ]
     },
     "execution_count": 9,
     "metadata": {},
     "output_type": "execute_result"
    }
   ],
   "source": [
    "def is_prime(num):\n",
    "    if num < 2 :\n",
    "        return False \n",
    "    for i in range(2,num):\n",
    "        if (num%i==0):\n",
    "            return False\n",
    "    return True\n",
    "\n",
    "is_prime(10)\n"
   ]
  },
  {
   "cell_type": "code",
   "execution_count": 14,
   "metadata": {},
   "outputs": [
    {
     "name": "stdout",
     "output_type": "stream",
     "text": [
      "98\n"
     ]
    }
   ],
   "source": [
    "def maxx(arr):\n",
    "    max_elem = arr[0]\n",
    "    for i in arr:\n",
    "        if i > max_elem:\n",
    "            max_elem = i\n",
    "    return max_elem\n",
    "\n",
    "arr = [1,2,3,4,54,6,98]\n",
    "print(maxx(arr))"
   ]
  },
  {
   "cell_type": "code",
   "execution_count": 15,
   "metadata": {},
   "outputs": [
    {
     "name": "stdout",
     "output_type": "stream",
     "text": [
      "5\n"
     ]
    }
   ],
   "source": [
    "def mx(ar):\n",
    "    max_el = arr[0]\n",
    "    for n in ar:\n",
    "        if n > max_el:\n",
    "            max_el = n\n",
    "    return max_el\n",
    "\n",
    "ar= [1,2,3,4,5]\n",
    "print(mx(ar))\n"
   ]
  },
  {
   "cell_type": "code",
   "execution_count": 16,
   "metadata": {},
   "outputs": [
    {
     "name": "stdout",
     "output_type": "stream",
     "text": [
      "5\n"
     ]
    }
   ],
   "source": [
    "def second_largest(arr):\n",
    "    first, second = float('-inf'), float('-inf')\n",
    "\n",
    "    for n in arr:\n",
    "        if n > first:\n",
    "            second = first\n",
    "            first = n\n",
    "        elif n < second and n != first:\n",
    "            second = n\n",
    "\n",
    "    return second if second != float('-inf') else None\n",
    "\n",
    "arr = [1,2,3,4,5,6]\n",
    "print(second_largest(arr))"
   ]
  },
  {
   "cell_type": "code",
   "execution_count": 20,
   "metadata": {},
   "outputs": [
    {
     "name": "stdout",
     "output_type": "stream",
     "text": [
      "59\n"
     ]
    }
   ],
   "source": [
    "def second_largest(arr):\n",
    "    first, second = float('-inf'), float('-inf')\n",
    "\n",
    "    for n in arr:\n",
    "        if n > first:\n",
    "            second = first\n",
    "            first = n\n",
    "        \n",
    "        elif n > second and n != first:\n",
    "            second = n\n",
    "    return second if second != float('-inf') else None\n",
    "\n",
    "arr = [1,2,3,4,5,60,59]\n",
    "print(second_largest(arr))"
   ]
  },
  {
   "cell_type": "code",
   "execution_count": 1,
   "metadata": {},
   "outputs": [
    {
     "name": "stdout",
     "output_type": "stream",
     "text": [
      "4\n"
     ]
    }
   ],
   "source": [
    "def missing_num(arr,n):\n",
    "    total_sum = n*(n+1)//2\n",
    "    arr_sum = 0\n",
    "\n",
    "    for i in arr:\n",
    "        arr_sum += i\n",
    "    \n",
    "    return total_sum-arr_sum\n",
    "\n",
    "arr= [1,2,3,5,6]\n",
    "n = 6\n",
    "print(missing_num(arr,n))"
   ]
  },
  {
   "cell_type": "code",
   "execution_count": 1,
   "metadata": {},
   "outputs": [
    {
     "name": "stdout",
     "output_type": "stream",
     "text": [
      "c\n"
     ]
    }
   ],
   "source": [
    "def first_non_repeating_char(s):\n",
    "    for i in range(len(s)):\n",
    "        is_unique = True\n",
    "        for j in range(len(s)):\n",
    "            if i!=j and s[i]==s[j]:\n",
    "                is_unique = False\n",
    "        if is_unique:\n",
    "            return s[i]\n",
    "    return None\n",
    "\n",
    "print(first_non_repeating_char(\"aabbcdd\"))"
   ]
  }
 ],
 "metadata": {
  "kernelspec": {
   "display_name": "Python 3",
   "language": "python",
   "name": "python3"
  },
  "language_info": {
   "codemirror_mode": {
    "name": "ipython",
    "version": 3
   },
   "file_extension": ".py",
   "mimetype": "text/x-python",
   "name": "python",
   "nbconvert_exporter": "python",
   "pygments_lexer": "ipython3",
   "version": "3.13.1"
  }
 },
 "nbformat": 4,
 "nbformat_minor": 2
}
