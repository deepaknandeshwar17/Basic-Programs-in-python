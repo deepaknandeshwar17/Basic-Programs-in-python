{
 "cells": [
  {
   "cell_type": "markdown",
   "id": "ed7520c2",
   "metadata": {},
   "source": [
    "# ***Two Sum Problem***\n",
    "---"
   ]
  },
  {
   "cell_type": "code",
   "execution_count": null,
   "id": "00d1e0bb",
   "metadata": {},
   "outputs": [
    {
     "name": "stdout",
     "output_type": "stream",
     "text": [
      "[0, 1]\n"
     ]
    }
   ],
   "source": [
    "# Using Brute-Force (Try all combinations (O(n²) usually)\n",
    "\n",
    "def two_sum_brute(nums, target):\n",
    "    n = len(nums)\n",
    "    for i in range(n):\n",
    "        for j in range(i+1, n):\n",
    "            if nums[i]+nums[j] == target:\n",
    "                return[i,j]\n",
    "            \n",
    "\n",
    "nums = [2,7,8,4,5]\n",
    "target = 9\n",
    "\n",
    "print(two_sum_brute(nums,target))"
   ]
  },
  {
   "cell_type": "code",
   "execution_count": null,
   "id": "2fefb41b",
   "metadata": {},
   "outputs": [
    {
     "name": "stdout",
     "output_type": "stream",
     "text": [
      "[1, 2]\n"
     ]
    }
   ],
   "source": [
    "# Optimized with Hash Map (O(n))\n",
    "\n",
    "def two_sum_hash(nums, target):\n",
    "    hashmap = {}\n",
    "    for i, num in enumerate(nums):\n",
    "        diff = target - num\n",
    "        if diff in hashmap:\n",
    "            return [hashmap[diff],i]\n",
    "        hashmap[num] = i\n",
    "\n",
    "nums = [1,2,7,6,5]\n",
    "target = 9\n",
    "\n",
    "print(two_sum_hash(nums,target))"
   ]
  },
  {
   "cell_type": "markdown",
   "id": "e26e922d",
   "metadata": {},
   "source": [
    "# ***Best time to buy and Sell stock***\n",
    "---"
   ]
  },
  {
   "cell_type": "code",
   "execution_count": 7,
   "id": "4b9f45a5",
   "metadata": {},
   "outputs": [
    {
     "name": "stdout",
     "output_type": "stream",
     "text": [
      "5\n"
     ]
    }
   ],
   "source": [
    "def max_profit(prices):\n",
    "    min_price = float('inf')\n",
    "    max_profits = 0\n",
    "\n",
    "    for price in prices:\n",
    "        if price < min_price:\n",
    "            min_price = price\n",
    "        elif price - min_price > max_profits:\n",
    "            max_profits = price - min_price\n",
    "    return max_profits\n",
    "\n",
    "prices = [7, 1, 5, 3, 6, 4]\n",
    "print(max_profit(prices))"
   ]
  },
  {
   "cell_type": "code",
   "execution_count": null,
   "id": "bf8cd0d4",
   "metadata": {},
   "outputs": [],
   "source": []
  }
 ],
 "metadata": {
  "kernelspec": {
   "display_name": "Python 3",
   "language": "python",
   "name": "python3"
  },
  "language_info": {
   "codemirror_mode": {
    "name": "ipython",
    "version": 3
   },
   "file_extension": ".py",
   "mimetype": "text/x-python",
   "name": "python",
   "nbconvert_exporter": "python",
   "pygments_lexer": "ipython3",
   "version": "3.13.1"
  }
 },
 "nbformat": 4,
 "nbformat_minor": 5
}
