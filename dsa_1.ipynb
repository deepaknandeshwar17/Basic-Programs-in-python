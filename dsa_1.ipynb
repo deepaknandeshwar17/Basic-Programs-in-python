{
 "cells": [
  {
   "cell_type": "markdown",
   "id": "ed7520c2",
   "metadata": {},
   "source": [
    "# ***Two Sum Problem***\n",
    "---"
   ]
  },
  {
   "cell_type": "code",
   "execution_count": null,
   "id": "00d1e0bb",
   "metadata": {},
   "outputs": [
    {
     "name": "stdout",
     "output_type": "stream",
     "text": [
      "[0, 1]\n"
     ]
    }
   ],
   "source": [
    "# Using Brute-Force (Try all combinations (O(n²) usually)\n",
    "\n",
    "def two_sum_brute(nums, target):\n",
    "    n = len(nums)\n",
    "    for i in range(n):\n",
    "        for j in range(i+1, n):\n",
    "            if nums[i]+nums[j] == target:\n",
    "                return[i,j]\n",
    "            \n",
    "\n",
    "nums = [2,7,8,4,5]\n",
    "target = 9\n",
    "\n",
    "print(two_sum_brute(nums,target))"
   ]
  },
  {
   "cell_type": "code",
   "execution_count": null,
   "id": "2fefb41b",
   "metadata": {},
   "outputs": [
    {
     "name": "stdout",
     "output_type": "stream",
     "text": [
      "[1, 2]\n"
     ]
    }
   ],
   "source": [
    "# Optimized with Hash Map (O(n))\n",
    "\n",
    "def two_sum_hash(nums, target):\n",
    "    hashmap = {}\n",
    "    for i, num in enumerate(nums):\n",
    "        diff = target - num\n",
    "        if diff in hashmap:\n",
    "            return [hashmap[diff],i]\n",
    "        hashmap[num] = i\n",
    "\n",
    "nums = [1,2,7,6,5]\n",
    "target = 9\n",
    "\n",
    "print(two_sum_hash(nums,target))"
   ]
  },
  {
   "cell_type": "code",
   "execution_count": 22,
   "id": "41438bce",
   "metadata": {},
   "outputs": [
    {
     "name": "stdout",
     "output_type": "stream",
     "text": [
      "[[1, 3], [4, 6]]\n"
     ]
    }
   ],
   "source": [
    "# Two Sum II\n",
    "\n",
    "def two_sum_II(nums, target):\n",
    "    left = 0\n",
    "    right = len(nums) -1\n",
    "\n",
    "    while left < right:\n",
    "        currSum = nums[left] + nums[right]\n",
    "\n",
    "        if currSum > target:\n",
    "            right = right - 1\n",
    "        elif currSum < target:\n",
    "            left = left + 1\n",
    "        else:\n",
    "            return [[left,nums[left]], [right,nums[right]]]\n",
    "    return []\n",
    "\n",
    "nums = [1,3,4,5,6,7]\n",
    "target = 9\n",
    "print(two_sum_II(nums, target))"
   ]
  },
  {
   "cell_type": "code",
   "execution_count": null,
   "id": "f492ce5c",
   "metadata": {},
   "outputs": [
    {
     "name": "stdout",
     "output_type": "stream",
     "text": [
      "[[-1, -1, 2], [-1, 0, 1]]\n"
     ]
    }
   ],
   "source": [
    "# III Sum\n",
    "\n",
    "def threeSum(nums):\n",
    "    nums.sort()\n",
    "    result = []\n",
    "    n = len(nums)\n",
    "\n",
    "    for i in range(n):\n",
    "        if i > 0 and nums[i] == nums[i-1]:\n",
    "            continue\n",
    "\n",
    "        target = -nums[i]\n",
    "        left = i+1\n",
    "        right = n-1\n",
    "\n",
    "        while left < right:\n",
    "            curr_sum = nums[left] + nums[right]\n",
    "            if curr_sum == target:\n",
    "                result.append([nums[i], nums[left], nums[right]])\n",
    "\n",
    "                while left < right and nums[left] == nums[left+1]:\n",
    "                    left = left + 1\n",
    "                while left < right and nums[right] == nums[right-1]:\n",
    "                    right = right - 1\n",
    "                left = left + 1\n",
    "                right = right - 1\n",
    "            \n",
    "            elif curr_sum < target:\n",
    "                left = left + 1\n",
    "            else:\n",
    "                right = right - 1\n",
    "    return result\n",
    "\n",
    "print(threeSum([-1, 0, 1, 2, -1, -4]))\n"
   ]
  },
  {
   "cell_type": "markdown",
   "id": "e26e922d",
   "metadata": {},
   "source": [
    "# ***Best time to buy and Sell stock***\n",
    "---"
   ]
  },
  {
   "cell_type": "code",
   "execution_count": 7,
   "id": "4b9f45a5",
   "metadata": {},
   "outputs": [
    {
     "name": "stdout",
     "output_type": "stream",
     "text": [
      "5\n"
     ]
    }
   ],
   "source": [
    "def max_profit(prices):\n",
    "    min_price = float('inf')\n",
    "    max_profits = 0\n",
    "\n",
    "    for price in prices:\n",
    "        if price < min_price:\n",
    "            min_price = price\n",
    "        elif price - min_price > max_profits:\n",
    "            max_profits = price - min_price\n",
    "    return max_profits\n",
    "\n",
    "prices = [7, 1, 5, 3, 6, 4]\n",
    "print(max_profit(prices))"
   ]
  },
  {
   "cell_type": "markdown",
   "id": "cf8d82bf",
   "metadata": {},
   "source": [
    "# ***Maximum Subarray (Kadane’s Algorithm)***\n",
    "---"
   ]
  },
  {
   "cell_type": "code",
   "execution_count": null,
   "id": "bf8cd0d4",
   "metadata": {},
   "outputs": [
    {
     "name": "stdout",
     "output_type": "stream",
     "text": [
      "6\n"
     ]
    }
   ],
   "source": [
    "# Kadane’s Algorithm\n",
    "\n",
    "def max_subarray(nums):\n",
    "    current_sum = max_sum = nums[0]\n",
    "\n",
    "    for num in nums[1:]:\n",
    "        current_sum = max(num, current_sum+num)\n",
    "        max_sum = max(current_sum,max_sum)\n",
    "    \n",
    "    return max_sum\n",
    "\n",
    "print(max_subarray([-2,1,-3,4,-1,2,1,-5,4]))"
   ]
  },
  {
   "cell_type": "markdown",
   "id": "697667de",
   "metadata": {},
   "source": [
    "# ***Duplicates***\n",
    "---"
   ]
  },
  {
   "cell_type": "code",
   "execution_count": 3,
   "id": "a4ce5c2e",
   "metadata": {},
   "outputs": [
    {
     "data": {
      "text/plain": [
       "False"
      ]
     },
     "execution_count": 3,
     "metadata": {},
     "output_type": "execute_result"
    }
   ],
   "source": [
    "def contain_duplicate(nums):\n",
    "    seen = set()\n",
    "    for num in nums:\n",
    "        if num in seen:\n",
    "            return True\n",
    "        seen.add(num)\n",
    "    return False\n",
    "\n",
    "contain_duplicate([1,2,3,4,5])"
   ]
  },
  {
   "cell_type": "code",
   "execution_count": 4,
   "id": "5eac41bf",
   "metadata": {},
   "outputs": [
    {
     "data": {
      "text/plain": [
       "[1, 2, 3, 4, 5]"
      ]
     },
     "execution_count": 4,
     "metadata": {},
     "output_type": "execute_result"
    }
   ],
   "source": [
    "def remove_duplicate(nums):\n",
    "    seen = []\n",
    "\n",
    "    for num in nums:\n",
    "        if num not in seen:\n",
    "            seen.append(num)\n",
    "    return seen\n",
    "\n",
    "nums = [1, 2, 2, 3, 1, 4, 3, 5]\n",
    "remove_duplicate(nums)"
   ]
  },
  {
   "cell_type": "markdown",
   "id": "21417e86",
   "metadata": {},
   "source": [
    "# ***Move Zeroes***\n",
    "---"
   ]
  },
  {
   "cell_type": "code",
   "execution_count": 11,
   "id": "3236a0be",
   "metadata": {},
   "outputs": [
    {
     "name": "stdout",
     "output_type": "stream",
     "text": [
      "[1, 2, 3, 5, 4, 0, 0, 0]\n"
     ]
    }
   ],
   "source": [
    "def move_zeroes(nums):\n",
    "    last_non_zero = 0\n",
    "\n",
    "    for i in range(len(nums)):\n",
    "        if nums[i] != 0:\n",
    "            nums[last_non_zero], nums[i] = nums[i], nums[last_non_zero]\n",
    "            last_non_zero += 1\n",
    "    return nums\n",
    "\n",
    "nums = [ 1,2,3,0,0,5,0,4]\n",
    "\n",
    "print(move_zeroes(nums))\n"
   ]
  },
  {
   "cell_type": "markdown",
   "id": "d2460ecd",
   "metadata": {},
   "source": [
    "# ***Product Except Self***\n",
    "---"
   ]
  },
  {
   "cell_type": "code",
   "execution_count": 1,
   "id": "570c2f5f",
   "metadata": {},
   "outputs": [
    {
     "name": "stdout",
     "output_type": "stream",
     "text": [
      "[24, 12, 8, 6]\n"
     ]
    }
   ],
   "source": [
    "def product_except_self(nums):\n",
    "    res = [1]* len(nums)\n",
    "\n",
    "    prefix = 1\n",
    "    for i in range(len(nums)):\n",
    "        res[i] = prefix\n",
    "        prefix *= nums[i]\n",
    "\n",
    "    postfix = 1\n",
    "    for i in reversed(range(len(nums))):\n",
    "        res[i] *= postfix\n",
    "        postfix *= nums[i]\n",
    "    return res\n",
    "\n",
    "nums = [1,2,3,4]\n",
    "print(product_except_self(nums))"
   ]
  },
  {
   "cell_type": "markdown",
   "id": "f81a22bb",
   "metadata": {},
   "source": [
    "# ***Maximum Product Subarray***\n",
    "---"
   ]
  },
  {
   "cell_type": "code",
   "execution_count": 2,
   "id": "f47f8bcc",
   "metadata": {},
   "outputs": [
    {
     "name": "stdout",
     "output_type": "stream",
     "text": [
      "24\n"
     ]
    }
   ],
   "source": [
    "def max_product(nums):\n",
    "    if not nums:\n",
    "        return 0\n",
    "    \n",
    "    max_prod = min_prod = result = nums[0]\n",
    "\n",
    "    for i in range(1, len(nums)):\n",
    "        num = nums[i]\n",
    "\n",
    "        if num < 0:\n",
    "            max_prod, min_prod = min_prod, max_prod\n",
    "\n",
    "        max_prod = max(num, num*max_prod)\n",
    "        min_prod = min(num, num*min_prod)\n",
    "\n",
    "        result = max(max_prod, result)\n",
    "\n",
    "    return result\n",
    "\n",
    "nums = [1,2,3,4,-5,6]\n",
    "print(max_product(nums))\n"
   ]
  },
  {
   "cell_type": "markdown",
   "id": "eb1c707c",
   "metadata": {},
   "source": [
    "# ***Find Minimum in Rotated Sorted Array***\n",
    "---"
   ]
  },
  {
   "cell_type": "code",
   "execution_count": null,
   "id": "8735276d",
   "metadata": {},
   "outputs": [
    {
     "name": "stdout",
     "output_type": "stream",
     "text": [
      "6\n"
     ]
    }
   ],
   "source": [
    "# Binary Search\n",
    "\n",
    "def binary_search(nums, target):\n",
    "    left = 0\n",
    "    right = len(nums)-1\n",
    "\n",
    "    while left <= right:\n",
    "        mid = (left+right)//2\n",
    "\n",
    "        if nums[mid] == target:\n",
    "            return mid\n",
    "        elif nums[mid] < target:\n",
    "            left = mid + 1\n",
    "        else:\n",
    "            right = mid - 1\n",
    "    return -1\n",
    "\n",
    "nums = [1,2,3,4,5,6,7,8,9]\n",
    "target = 7\n",
    "\n",
    "print(binary_search(nums,target))"
   ]
  },
  {
   "cell_type": "code",
   "execution_count": null,
   "id": "614da238",
   "metadata": {},
   "outputs": [
    {
     "name": "stdout",
     "output_type": "stream",
     "text": [
      "(4, 1)\n"
     ]
    }
   ],
   "source": [
    "# With Duplicates\n",
    "\n",
    "def find_min(nums):\n",
    "    left = 0\n",
    "    right = len(nums) - 1\n",
    "\n",
    "    while left < right:\n",
    "        mid = (left+right)//2\n",
    "\n",
    "        if nums[mid] > nums[right]:\n",
    "            left = mid + 1\n",
    "        else:\n",
    "            right = mid\n",
    "    return left,nums[left]\n",
    "\n",
    "nums = [4, 5, 6, 7, 1, 2]\n",
    "print(find_min(nums))"
   ]
  },
  {
   "cell_type": "code",
   "execution_count": 11,
   "id": "7e453a5c",
   "metadata": {},
   "outputs": [
    {
     "name": "stdout",
     "output_type": "stream",
     "text": [
      "(4, 1)\n"
     ]
    }
   ],
   "source": [
    "# Without Duplicates\n",
    "\n",
    "def find_min_with_dup(nums):\n",
    "    left = 0\n",
    "    right = len(nums) - 1\n",
    "\n",
    "    while left < right:\n",
    "        mid = (left+right)//2\n",
    "\n",
    "        if nums[mid] > nums[right]:\n",
    "            left = mid + 1\n",
    "        elif nums[mid] < nums[right]:\n",
    "            right = mid\n",
    "        else:\n",
    "            right = right - 1\n",
    "        return left,nums[left]\n",
    "\n",
    "nums = [4,5,6,6,1,2,3]\n",
    "print(find_min_with_dup(nums))"
   ]
  },
  {
   "cell_type": "markdown",
   "id": "127ca76f",
   "metadata": {},
   "source": [
    "# ***Max Subarray using Sliding Window***\n",
    "---"
   ]
  },
  {
   "cell_type": "code",
   "execution_count": 1,
   "id": "81db61bc",
   "metadata": {},
   "outputs": [
    {
     "name": "stdout",
     "output_type": "stream",
     "text": [
      "9\n"
     ]
    }
   ],
   "source": [
    "def max_sum_auarray_k(arr,k):\n",
    "    n = len(arr)\n",
    "    max_sum = float('-inf')\n",
    "    window_sum = 0\n",
    "\n",
    "    for i in range(n):\n",
    "        window_sum = window_sum + arr[i]\n",
    "\n",
    "        if i >= k-1:\n",
    "            max_sum = max(max_sum, window_sum)\n",
    "            window_sum = window_sum - arr[i-k+1]\n",
    "    return max_sum\n",
    "\n",
    "arr = [2, 1, 5, 1, 3, 2]\n",
    "k = 3\n",
    "print(max_sum_auarray_k(arr,k))"
   ]
  },
  {
   "cell_type": "code",
   "execution_count": 4,
   "id": "6ccdcb1c",
   "metadata": {},
   "outputs": [
    {
     "name": "stdout",
     "output_type": "stream",
     "text": [
      "12.75\n"
     ]
    }
   ],
   "source": [
    "def find_max_average(nums,k):\n",
    "    window_sum = sum(nums[:k])\n",
    "    max_sum = window_sum\n",
    "\n",
    "    for i in range(k, len(nums)):\n",
    "        window_sum += nums[i]-nums[i-k]\n",
    "        max_sum = max(max_sum,window_sum)\n",
    "    return max_sum/k\n",
    "\n",
    "nums = [1,12,-5,-6,50,3]\n",
    "k = 4\n",
    "print(find_max_average(nums,k))"
   ]
  },
  {
   "cell_type": "markdown",
   "id": "a463c51d",
   "metadata": {},
   "source": [
    "# ***Sliding window Maximum***\n",
    "---"
   ]
  },
  {
   "cell_type": "code",
   "execution_count": 5,
   "id": "7ea5c8cb",
   "metadata": {},
   "outputs": [
    {
     "name": "stdout",
     "output_type": "stream",
     "text": [
      "[3, 3, 5, 5, 6, 7]\n"
     ]
    }
   ],
   "source": [
    "from collections import deque\n",
    "\n",
    "def max_silding_window(nums, k):\n",
    "    q = deque()\n",
    "    result = []\n",
    "\n",
    "    for i in range(len(nums)):\n",
    "        if q and q[0] <= i-k:\n",
    "            q.popleft()\n",
    "        \n",
    "        while q and nums[q[-1]] < nums[i]:\n",
    "            q.pop()\n",
    "        \n",
    "        q.append(i)\n",
    "\n",
    "        if i>=k-1:\n",
    "            result.append(nums[q[0]])\n",
    "    return result\n",
    "\n",
    "nums = [1,3,-1,-3,5,3,6,7]\n",
    "k = 3\n",
    "print(max_silding_window(nums,k))"
   ]
  }
 ],
 "metadata": {
  "kernelspec": {
   "display_name": "Python 3",
   "language": "python",
   "name": "python3"
  },
  "language_info": {
   "codemirror_mode": {
    "name": "ipython",
    "version": 3
   },
   "file_extension": ".py",
   "mimetype": "text/x-python",
   "name": "python",
   "nbconvert_exporter": "python",
   "pygments_lexer": "ipython3",
   "version": "3.13.1"
  }
 },
 "nbformat": 4,
 "nbformat_minor": 5
}
