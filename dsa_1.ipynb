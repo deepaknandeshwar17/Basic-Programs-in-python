{
 "cells": [
  {
   "cell_type": "markdown",
   "id": "ed7520c2",
   "metadata": {},
   "source": [
    "# ***Two Sum Problem***\n",
    "---"
   ]
  },
  {
   "cell_type": "code",
   "execution_count": null,
   "id": "00d1e0bb",
   "metadata": {},
   "outputs": [
    {
     "name": "stdout",
     "output_type": "stream",
     "text": [
      "[0, 1]\n"
     ]
    }
   ],
   "source": [
    "# Using Brute-Force (Try all combinations (O(n²) usually)\n",
    "\n",
    "def two_sum_brute(nums, target):\n",
    "    n = len(nums)\n",
    "    for i in range(n):\n",
    "        for j in range(i+1, n):\n",
    "            if nums[i]+nums[j] == target:\n",
    "                return[i,j]\n",
    "            \n",
    "\n",
    "nums = [2,7,8,4,5]\n",
    "target = 9\n",
    "\n",
    "print(two_sum_brute(nums,target))"
   ]
  },
  {
   "cell_type": "code",
   "execution_count": null,
   "id": "2fefb41b",
   "metadata": {},
   "outputs": [
    {
     "name": "stdout",
     "output_type": "stream",
     "text": [
      "[1, 2]\n"
     ]
    }
   ],
   "source": [
    "# Optimized with Hash Map (O(n))\n",
    "\n",
    "def two_sum_hash(nums, target):\n",
    "    hashmap = {}\n",
    "    for i, num in enumerate(nums):\n",
    "        diff = target - num\n",
    "        if diff in hashmap:\n",
    "            return [hashmap[diff],i]\n",
    "        hashmap[num] = i\n",
    "\n",
    "nums = [1,2,7,6,5]\n",
    "target = 9\n",
    "\n",
    "print(two_sum_hash(nums,target))"
   ]
  },
  {
   "cell_type": "markdown",
   "id": "e26e922d",
   "metadata": {},
   "source": [
    "# ***Best time to buy and Sell stock***\n",
    "---"
   ]
  },
  {
   "cell_type": "code",
   "execution_count": 7,
   "id": "4b9f45a5",
   "metadata": {},
   "outputs": [
    {
     "name": "stdout",
     "output_type": "stream",
     "text": [
      "5\n"
     ]
    }
   ],
   "source": [
    "def max_profit(prices):\n",
    "    min_price = float('inf')\n",
    "    max_profits = 0\n",
    "\n",
    "    for price in prices:\n",
    "        if price < min_price:\n",
    "            min_price = price\n",
    "        elif price - min_price > max_profits:\n",
    "            max_profits = price - min_price\n",
    "    return max_profits\n",
    "\n",
    "prices = [7, 1, 5, 3, 6, 4]\n",
    "print(max_profit(prices))"
   ]
  },
  {
   "cell_type": "markdown",
   "id": "cf8d82bf",
   "metadata": {},
   "source": [
    "# ***Maximum Subarray (Kadane’s Algorithm)***\n",
    "---"
   ]
  },
  {
   "cell_type": "code",
   "execution_count": null,
   "id": "bf8cd0d4",
   "metadata": {},
   "outputs": [
    {
     "name": "stdout",
     "output_type": "stream",
     "text": [
      "6\n"
     ]
    }
   ],
   "source": [
    "# Kadane’s Algorithm\n",
    "\n",
    "def max_subarray(nums):\n",
    "    current_sum = max_sum = nums[0]\n",
    "\n",
    "    for num in nums[1:]:\n",
    "        current_sum = max(num, current_sum+num)\n",
    "        max_sum = max(current_sum,max_sum)\n",
    "    \n",
    "    return max_sum\n",
    "\n",
    "print(max_subarray([-2,1,-3,4,-1,2,1,-5,4]))"
   ]
  },
  {
   "cell_type": "markdown",
   "id": "697667de",
   "metadata": {},
   "source": [
    "# ***Duplicates***\n",
    "---"
   ]
  },
  {
   "cell_type": "code",
   "execution_count": 3,
   "id": "a4ce5c2e",
   "metadata": {},
   "outputs": [
    {
     "data": {
      "text/plain": [
       "False"
      ]
     },
     "execution_count": 3,
     "metadata": {},
     "output_type": "execute_result"
    }
   ],
   "source": [
    "def contain_duplicate(nums):\n",
    "    seen = set()\n",
    "    for num in nums:\n",
    "        if num in seen:\n",
    "            return True\n",
    "        seen.add(num)\n",
    "    return False\n",
    "\n",
    "contain_duplicate([1,2,3,4,5])"
   ]
  },
  {
   "cell_type": "code",
   "execution_count": 4,
   "id": "5eac41bf",
   "metadata": {},
   "outputs": [
    {
     "data": {
      "text/plain": [
       "[1, 2, 3, 4, 5]"
      ]
     },
     "execution_count": 4,
     "metadata": {},
     "output_type": "execute_result"
    }
   ],
   "source": [
    "def remove_duplicate(nums):\n",
    "    seen = []\n",
    "\n",
    "    for num in nums:\n",
    "        if num not in seen:\n",
    "            seen.append(num)\n",
    "    return seen\n",
    "\n",
    "nums = [1, 2, 2, 3, 1, 4, 3, 5]\n",
    "remove_duplicate(nums)"
   ]
  },
  {
   "cell_type": "markdown",
   "id": "21417e86",
   "metadata": {},
   "source": [
    "# ***Move Zeroes***\n",
    "---"
   ]
  },
  {
   "cell_type": "code",
   "execution_count": 11,
   "id": "3236a0be",
   "metadata": {},
   "outputs": [
    {
     "name": "stdout",
     "output_type": "stream",
     "text": [
      "[1, 2, 3, 5, 4, 0, 0, 0]\n"
     ]
    }
   ],
   "source": [
    "def move_zeroes(nums):\n",
    "    last_non_zero = 0\n",
    "\n",
    "    for i in range(len(nums)):\n",
    "        if nums[i] != 0:\n",
    "            nums[last_non_zero], nums[i] = nums[i], nums[last_non_zero]\n",
    "            last_non_zero += 1\n",
    "    return nums\n",
    "\n",
    "nums = [ 1,2,3,0,0,5,0,4]\n",
    "\n",
    "print(move_zeroes(nums))\n"
   ]
  }
 ],
 "metadata": {
  "kernelspec": {
   "display_name": "Python 3",
   "language": "python",
   "name": "python3"
  },
  "language_info": {
   "codemirror_mode": {
    "name": "ipython",
    "version": 3
   },
   "file_extension": ".py",
   "mimetype": "text/x-python",
   "name": "python",
   "nbconvert_exporter": "python",
   "pygments_lexer": "ipython3",
   "version": "3.13.1"
  }
 },
 "nbformat": 4,
 "nbformat_minor": 5
}
