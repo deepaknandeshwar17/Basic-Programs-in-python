{
 "cells": [
  {
   "cell_type": "code",
   "execution_count": 1,
   "metadata": {},
   "outputs": [
    {
     "name": "stdout",
     "output_type": "stream",
     "text": [
      "hel.ipynb\n"
     ]
    }
   ],
   "source": [
    "print(\"hel.ipynb\")"
   ]
  },
  {
   "cell_type": "code",
   "execution_count": 2,
   "metadata": {},
   "outputs": [
    {
     "name": "stdout",
     "output_type": "stream",
     "text": [
      "Good morning sir\n"
     ]
    }
   ],
   "source": [
    "def dee():\n",
    "    print(\"Good morning sir\")\n",
    "\n",
    "dee()"
   ]
  },
  {
   "cell_type": "code",
   "execution_count": 6,
   "metadata": {},
   "outputs": [
    {
     "name": "stdout",
     "output_type": "stream",
     "text": [
      "Tiger is a animal\n",
      "Lion is a animal\n"
     ]
    }
   ],
   "source": [
    "def names(name):\n",
    "    print(name + \" is a animal\")\n",
    "\n",
    "names(\"Tiger\")\n",
    "names(\"Lion\")"
   ]
  },
  {
   "cell_type": "code",
   "execution_count": 3,
   "metadata": {},
   "outputs": [
    {
     "name": "stdout",
     "output_type": "stream",
     "text": [
      "Chiron and Mistril are both buggati cars. \n"
     ]
    }
   ],
   "source": [
    "# We can give number of arguments as we want\n",
    "\n",
    "def car(a,b):\n",
    "    print(a +\" and \"+ b + \" are both buggati cars. \" )\n",
    "\n",
    "car(\"Chiron\",\"Mistril\")"
   ]
  },
  {
   "cell_type": "code",
   "execution_count": 5,
   "metadata": {},
   "outputs": [
    {
     "name": "stdout",
     "output_type": "stream",
     "text": [
      "audi is a car\n"
     ]
    }
   ],
   "source": [
    "# using * that is arbitary arguments\n",
    "\n",
    "def car(*a):\n",
    "    print(a[1] + \" is a car\")\n",
    "\n",
    "car(\"Bmw\",\"audi\",\"wv\")"
   ]
  },
  {
   "cell_type": "code",
   "execution_count": 7,
   "metadata": {},
   "outputs": [
    {
     "name": "stdout",
     "output_type": "stream",
     "text": [
      "hi iam goku\n"
     ]
    }
   ],
   "source": [
    "# keyword arguments\n",
    "\n",
    "def car(a,b,c):\n",
    "    print(\"hi iam \"+ a)\n",
    "car(a=\"goku\",b=\"vegeta\",c=\"gohan\")\n"
   ]
  },
  {
   "cell_type": "code",
   "execution_count": 9,
   "metadata": {},
   "outputs": [
    {
     "name": "stdout",
     "output_type": "stream",
     "text": [
      "i am goku\n"
     ]
    }
   ],
   "source": [
    "# arbitary keyword arguments\n",
    "\n",
    "def car(**m):\n",
    "    print(\"i am \"+ m[\"a\"])\n",
    "\n",
    "car(b=\"vegita\", a=\"goku\")"
   ]
  },
  {
   "cell_type": "code",
   "execution_count": 10,
   "metadata": {},
   "outputs": [
    {
     "name": "stdout",
     "output_type": "stream",
     "text": [
      "1\n",
      "2\n",
      "3\n",
      "4\n",
      "hi\n"
     ]
    }
   ],
   "source": [
    "def car(a):\n",
    "    for i in a:\n",
    "        print(i)\n",
    "\n",
    "b = 1,2,3,4,\"hi\"\n",
    "car(b)"
   ]
  },
  {
   "cell_type": "code",
   "execution_count": 15,
   "metadata": {},
   "outputs": [
    {
     "data": {
      "text/plain": [
       "120"
      ]
     },
     "execution_count": 15,
     "metadata": {},
     "output_type": "execute_result"
    }
   ],
   "source": [
    "# Recursion  in finding factorial\n",
    "\n",
    "def fact(k):\n",
    "    if (k==0 or k==1):\n",
    "        return 1\n",
    "    else:\n",
    "        return k*fact(k-1)\n",
    "    \n",
    "fact(5)"
   ]
  },
  {
   "cell_type": "code",
   "execution_count": 22,
   "metadata": {},
   "outputs": [
    {
     "name": "stdout",
     "output_type": "stream",
     "text": [
      "15\n"
     ]
    }
   ],
   "source": [
    "# Lambda function (it can take as many as arguments but it can has only one expression)\n",
    "\n",
    "x = lambda a : a +10\n",
    "print(x(5)) "
   ]
  },
  {
   "cell_type": "code",
   "execution_count": 3,
   "metadata": {},
   "outputs": [
    {
     "name": "stdout",
     "output_type": "stream",
     "text": [
      "9\n"
     ]
    }
   ],
   "source": [
    "# it can take any number of arguments\n",
    "\n",
    "# x = lambda a,b : a+b\n",
    "# print(x(2,3))\n",
    "\n",
    "x = lambda a,b,c : a+b+c\n",
    "print(x(2,3,4))"
   ]
  },
  {
   "cell_type": "code",
   "execution_count": 10,
   "metadata": {},
   "outputs": [
    {
     "name": "stdout",
     "output_type": "stream",
     "text": [
      "kkk\n",
      "kkkkk\n"
     ]
    }
   ],
   "source": [
    "def fuc(n):\n",
    "    return lambda a : a*n\n",
    "\n",
    "doubler = fuc(\"k\")\n",
    "v=doubler\n",
    "\n",
    "print(v(3))\n",
    "\n",
    "print(doubler(5))"
   ]
  },
  {
   "cell_type": "code",
   "execution_count": 4,
   "metadata": {},
   "outputs": [
    {
     "name": "stdout",
     "output_type": "stream",
     "text": [
      "global veriable is  4\n",
      "Local veriable is  3\n"
     ]
    }
   ],
   "source": [
    "# Global and local veriables\n",
    "\n",
    "\n",
    "x = 4    #local veriable\n",
    "\n",
    "def ver():\n",
    "    global x\n",
    "    x = 56\n",
    "    y =3\n",
    "    print(\"Local veriable is \", y)\n",
    "\n",
    "print(\"global veriable is \",x)\n",
    "ver()"
   ]
  },
  {
   "cell_type": "code",
   "execution_count": 6,
   "metadata": {},
   "outputs": [
    {
     "name": "stdout",
     "output_type": "stream",
     "text": [
      "<_io.TextIOWrapper name='tasks.txt' mode='r' encoding='UTF-8'>\n"
     ]
    }
   ],
   "source": [
    "x = open(\"tasks.txt\",\"r\")\n",
    "print(x)"
   ]
  },
  {
   "cell_type": "code",
   "execution_count": 13,
   "metadata": {},
   "outputs": [
    {
     "name": "stdout",
     "output_type": "stream",
     "text": [
      "My name is Goku,and i am a Fighter,along with Vegeta\n",
      "Goku is a Fighter\n"
     ]
    }
   ],
   "source": []
  },
  {
   "cell_type": "code",
   "execution_count": 17,
   "metadata": {},
   "outputs": [
    {
     "name": "stdout",
     "output_type": "stream",
     "text": [
      "Goku is a strongest fighter with power level of 9000\n"
     ]
    }
   ],
   "source": [
    "\n"
   ]
  }
 ],
 "metadata": {
  "kernelspec": {
   "display_name": "base",
   "language": "python",
   "name": "python3"
  },
  "language_info": {
   "codemirror_mode": {
    "name": "ipython",
    "version": 3
   },
   "file_extension": ".py",
   "mimetype": "text/x-python",
   "name": "python",
   "nbconvert_exporter": "python",
   "pygments_lexer": "ipython3",
   "version": "3.9.13"
  }
 },
 "nbformat": 4,
 "nbformat_minor": 2
}
