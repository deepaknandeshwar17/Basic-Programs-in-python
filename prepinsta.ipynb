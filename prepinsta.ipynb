{
 "cells": [
  {
   "cell_type": "code",
   "execution_count": 3,
   "metadata": {},
   "outputs": [
    {
     "name": "stdout",
     "output_type": "stream",
     "text": [
      "Negative\n"
     ]
    }
   ],
   "source": [
    "# Positive or negative\n",
    "\n",
    "n = int(input())\n",
    "\n",
    "if n < 0:\n",
    "    print(\"Negative\")\n",
    "elif n==0:\n",
    "    print(\"Zero\")\n",
    "else:\n",
    "    print(\"Positive\")"
   ]
  },
  {
   "cell_type": "code",
   "execution_count": 7,
   "metadata": {},
   "outputs": [
    {
     "name": "stdout",
     "output_type": "stream",
     "text": [
      "odd\n"
     ]
    }
   ],
   "source": [
    "# Even or odd\n",
    "\n",
    "n = int(input())\n",
    "\n",
    "if n%2==0:\n",
    "    print(\"Even\")\n",
    "else:\n",
    "    print(\"odd\")"
   ]
  },
  {
   "cell_type": "code",
   "execution_count": 12,
   "metadata": {},
   "outputs": [
    {
     "name": "stdout",
     "output_type": "stream",
     "text": [
      "10\n"
     ]
    }
   ],
   "source": [
    "# Sum of first N natural numbers\n",
    "\n",
    "n = int(input())\n",
    "\n",
    "s = 0\n",
    "for i in range(n+1):\n",
    "    s=s+i\n",
    "print(s)\n"
   ]
  },
  {
   "cell_type": "code",
   "execution_count": 16,
   "metadata": {},
   "outputs": [
    {
     "name": "stdout",
     "output_type": "stream",
     "text": [
      "10\n"
     ]
    }
   ],
   "source": [
    "# Sum of n numbers using recursion\n",
    "\n",
    "n = int(input())\n",
    "\n",
    "def sumn(n):\n",
    "    if n==1:\n",
    "        return 1\n",
    "    return n+sumn(n-1)\n",
    "\n",
    "print(sumn(n))"
   ]
  },
  {
   "cell_type": "code",
   "execution_count": 19,
   "metadata": {},
   "outputs": [
    {
     "name": "stdout",
     "output_type": "stream",
     "text": [
      "9\n"
     ]
    }
   ],
   "source": [
    "# Sum of n numbers for given range\n",
    "\n",
    "n1, n2 = 2,4\n",
    "s = 0\n",
    "for i in range(n1,n2+1):\n",
    "    s = s+i\n",
    "print(s)"
   ]
  },
  {
   "cell_type": "code",
   "execution_count": 21,
   "metadata": {},
   "outputs": [
    {
     "name": "stdout",
     "output_type": "stream",
     "text": [
      "9\n"
     ]
    }
   ],
   "source": [
    "# Sum of n numbers for given range using recursion\n",
    "\n",
    "def su(s,n1,n2):\n",
    "    if n1>n2:\n",
    "        return s\n",
    "    return n1+su(s,n1+1,n2)\n",
    "n1,n2=2,4\n",
    "s=0\n",
    "print(su(s,n1,n2))"
   ]
  },
  {
   "cell_type": "code",
   "execution_count": 26,
   "metadata": {},
   "outputs": [
    {
     "name": "stdout",
     "output_type": "stream",
     "text": [
      "Both are equal\n"
     ]
    }
   ],
   "source": [
    "# Greatest of two numbers\n",
    "\n",
    "a = 3\n",
    "b = 3\n",
    "\n",
    "if a>b:\n",
    "    print(\"A is Greater\")\n",
    "elif a==b:\n",
    "    print(\"Both are equal\")\n",
    "else:\n",
    "    print(\"B is Greater\")"
   ]
  },
  {
   "cell_type": "code",
   "execution_count": 27,
   "metadata": {},
   "outputs": [
    {
     "name": "stdout",
     "output_type": "stream",
     "text": [
      "c\n"
     ]
    }
   ],
   "source": [
    "# Greatest of three numbers\n",
    "\n",
    "a,b,c = 2,3,4\n",
    "if a>b and a>c:\n",
    "    print(\"a\")\n",
    "elif b>a and b>c:\n",
    "    print('b')\n",
    "else:\n",
    "    print('c')"
   ]
  },
  {
   "cell_type": "code",
   "execution_count": 32,
   "metadata": {},
   "outputs": [
    {
     "name": "stdout",
     "output_type": "stream",
     "text": [
      "2 is not a leap Year\n"
     ]
    }
   ],
   "source": [
    "# Leap Year\n",
    "\n",
    "n=int(input())\n",
    "\n",
    "if (n%4==0 and n%100!=0) or (n%400==0):\n",
    "    print(f\"{n} is a leap Year\")\n",
    "else:\n",
    "    print(f\"{n} is not a leap Year\")"
   ]
  },
  {
   "cell_type": "code",
   "execution_count": 5,
   "metadata": {},
   "outputs": [
    {
     "name": "stdout",
     "output_type": "stream",
     "text": [
      "6 is Not a prime number\n"
     ]
    }
   ],
   "source": [
    "#  prime number\n",
    "\n",
    "n = int(input())\n",
    "for i in range(2,n):\n",
    "    if n%i==0:\n",
    "        print(f\"{n} is Not a prime number\")\n",
    "        break\n",
    "else:\n",
    "    print(f\"{n} is a Prime number\")"
   ]
  },
  {
   "cell_type": "code",
   "execution_count": 40,
   "metadata": {},
   "outputs": [
    {
     "name": "stdout",
     "output_type": "stream",
     "text": [
      "The prime numbers between 4 and 10 are :[5, 7] \n"
     ]
    }
   ],
   "source": [
    "# prime numbers in a given range\n",
    "\n",
    "def is_prime(n):\n",
    "    for i in range(2,n):\n",
    "        if n%i==0:\n",
    "            return False\n",
    "    return True\n",
    "\n",
    "def primes(a,b):\n",
    "    z =[]\n",
    "    for i in range(a,b+1):\n",
    "        if is_prime(i):\n",
    "            z.append(i)\n",
    "    return z\n",
    "\n",
    "a = int(input())\n",
    "b = int(input())\n",
    "\n",
    "pr = primes(a,b)\n",
    "\n",
    "print(f'The prime numbers between {a} and {b} are :{pr} ')"
   ]
  },
  {
   "cell_type": "code",
   "execution_count": 11,
   "metadata": {},
   "outputs": [
    {
     "name": "stdout",
     "output_type": "stream",
     "text": [
      "1 2 4 5 10 20 25 50 100 "
     ]
    }
   ],
   "source": [
    "# Factors of number\n",
    "\n",
    "def factors(n):\n",
    "    i = 1\n",
    "    while i<=n:\n",
    "        if n%i==0:\n",
    "            print(i,end=\" \")\n",
    "        i=i+1\n",
    "    \n",
    "n = 100\n",
    "factors(n)"
   ]
  },
  {
   "cell_type": "code",
   "execution_count": 1,
   "metadata": {},
   "outputs": [
    {
     "name": "stdout",
     "output_type": "stream",
     "text": [
      "12\n"
     ]
    }
   ],
   "source": [
    "# GCD of two numbers\n",
    "\n",
    "a = 36\n",
    "b = 60\n",
    "g = 1\n",
    "\n",
    "for i in range(1, min(a,b)):\n",
    "    if (a%i==0) and (b%i==0):\n",
    "        g = i\n",
    "print(g)"
   ]
  },
  {
   "cell_type": "code",
   "execution_count": 1,
   "metadata": {},
   "outputs": [
    {
     "name": "stdout",
     "output_type": "stream",
     "text": [
      "at first a=3 and b=4\n",
      "when swapped a=4 and b=3\n"
     ]
    }
   ],
   "source": [
    "# swap two variables\n",
    "\n",
    "a = int(input())\n",
    "b = int(input())\n",
    "print(f\"at first a={a} and b={b}\")\n",
    "\n",
    "temp = a\n",
    "a = b\n",
    "b = temp\n",
    "\n",
    "print(f'when swapped a={a} and b={b}')\n"
   ]
  },
  {
   "cell_type": "code",
   "execution_count": 5,
   "metadata": {},
   "outputs": [
    {
     "name": "stdout",
     "output_type": "stream",
     "text": [
      "    August 2024\n",
      "Mo Tu We Th Fr Sa Su\n",
      "          1  2  3  4\n",
      " 5  6  7  8  9 10 11\n",
      "12 13 14 15 16 17 18\n",
      "19 20 21 22 23 24 25\n",
      "26 27 28 29 30 31\n",
      "\n"
     ]
    }
   ],
   "source": [
    "# To display calender\n",
    "\n",
    "import calendar\n",
    "\n",
    "year = int(input(\"year: \"))\n",
    "month = int(input('year: '))\n",
    "\n",
    "cal = calendar.month(year,month)\n",
    "print(cal)"
   ]
  },
  {
   "cell_type": "code",
   "execution_count": 9,
   "metadata": {},
   "outputs": [
    {
     "name": "stdout",
     "output_type": "stream",
     "text": [
      "not a  leap year\n"
     ]
    }
   ],
   "source": [
    "n = int(input())\n",
    "if (n%4 ==0 and n%100!=0) or (n%400==0):\n",
    "    print(\"Leap year\")\n",
    "else:\n",
    "    print('not a  leap year')"
   ]
  },
  {
   "cell_type": "code",
   "execution_count": 3,
   "metadata": {},
   "outputs": [
    {
     "name": "stdout",
     "output_type": "stream",
     "text": [
      "6 is a prime number\n"
     ]
    }
   ],
   "source": [
    "n = int(input())\n",
    "\n",
    "flag = False\n",
    "\n",
    "for i in range(2,n):\n",
    "    if (n%i==0):\n",
    "        falg= True\n",
    "        break\n",
    "\n",
    "if flag:\n",
    "    print(f\"{n} is not a prrime number\")\n",
    "else:\n",
    "    print(f'{n} is a prime number')"
   ]
  },
  {
   "cell_type": "code",
   "execution_count": 7,
   "metadata": {},
   "outputs": [
    {
     "name": "stdout",
     "output_type": "stream",
     "text": [
      "The largest number in the given array is 9\n"
     ]
    }
   ],
   "source": [
    "# To find the largest element in an array\n",
    "\n",
    "def larg(arr):\n",
    "\n",
    "    largest = arr[0]\n",
    "\n",
    "    for i in arr[1:]:\n",
    "        if i > largest:\n",
    "            largest = i\n",
    "\n",
    "    return largest\n",
    "\n",
    "arr = [1,2,3,7,4,9,8,6]\n",
    "print(f'The largest number in the given array is {larg(arr)}')"
   ]
  },
  {
   "cell_type": "code",
   "execution_count": 12,
   "metadata": {},
   "outputs": [
    {
     "name": "stdout",
     "output_type": "stream",
     "text": [
      "Array after 2 left rotation: [3, 4, 5, 1, 2]\n"
     ]
    }
   ],
   "source": [
    "# Array Left Rotation\n",
    "\n",
    "def rotate(arr,d):\n",
    "    n = len(arr)\n",
    "    d=d%n\n",
    "    return arr[d:] + arr[:d]\n",
    "\n",
    "arr = [1,2,3,4,5]\n",
    "d=2\n",
    "print(f'Array after {d} left rotation: {rotate(arr,d)}')\n"
   ]
  },
  {
   "cell_type": "code",
   "execution_count": 13,
   "metadata": {},
   "outputs": [
    {
     "name": "stdout",
     "output_type": "stream",
     "text": [
      "Array after 2 right rotation: [4, 5, 1, 2, 3]\n"
     ]
    }
   ],
   "source": [
    "# Array right rotation\n",
    "\n",
    "def rightrot(ar,r):\n",
    "    n = len(ar)\n",
    "    r = r%n\n",
    "    return ar[-r:] + ar[:-r]\n",
    "\n",
    "ar = [1,2,3,4,5]\n",
    "r = 2\n",
    "print(f'Array after {r} right rotation: {rightrot(ar,r)}')"
   ]
  },
  {
   "cell_type": "code",
   "execution_count": 4,
   "metadata": {},
   "outputs": [
    {
     "name": "stdout",
     "output_type": "stream",
     "text": [
      "The spliting of the array by 3 and adding gives: [4, 5, 6, 7, 8, 1, 2, 3]\n"
     ]
    }
   ],
   "source": [
    "# Split and add the array\n",
    "\n",
    "def split_and_add(arr,n):\n",
    "    if n<=0 or n>len(arr):\n",
    "        return arr\n",
    "    \n",
    "    first_split = arr[:n]\n",
    "    second_split = arr[n:]\n",
    "\n",
    "    adding = second_split + first_split\n",
    "\n",
    "    return adding\n",
    "\n",
    "arr = [1,2,3,4,5,6,7,8]\n",
    "n = 3\n",
    "print(f'The spliting of the array by {n} and adding gives: {split_and_add(arr,n)}')"
   ]
  },
  {
   "cell_type": "code",
   "execution_count": 1,
   "metadata": {},
   "outputs": [
    {
     "name": "stdout",
     "output_type": "stream",
     "text": [
      "The middle character is: 'l'\n",
      "The middle character is: 'd'\n",
      "The word does not have an odd length.\n"
     ]
    }
   ],
   "source": [
    "def print_middle_character(word):\n",
    "    if len(word) % 2 == 1:  # Ensure the word has an odd length\n",
    "        middle_index = len(word) // 2\n",
    "        middle_character = word[middle_index]\n",
    "        print(f\"The middle character is: '{middle_character}'\")\n",
    "    else:\n",
    "        print(\"The word does not have an odd length.\")\n",
    "\n",
    "# Example usage:\n",
    "print_middle_character(\"hello\")   # Output: \"The middle character is: 'l'\"\n",
    "print_middle_character(\"abcdefg\") # Output: \"The middle character is: 'd'\"\n",
    "print_middle_character(\"python\")  # Output: \"The word does not have an odd length.\"\n"
   ]
  },
  {
   "cell_type": "code",
   "execution_count": 7,
   "metadata": {},
   "outputs": [
    {
     "name": "stdout",
     "output_type": "stream",
     "text": [
      "G \n",
      "G r \n",
      "G r o \n",
      "G r o u \n",
      "G r o u p \n"
     ]
    }
   ],
   "source": [
    "word = \"Group\"\n",
    "# for i in range(len(word)):\n",
    "#     print(\"\"*(len(word)-i-1)+word[:i+1])\n",
    "n = len(word)\n",
    "for i in range(n):\n",
    "    for j in range(i+1):\n",
    "        print(word[j], end=\" \")\n",
    "    print()"
   ]
  },
  {
   "cell_type": "code",
   "execution_count": 9,
   "metadata": {},
   "outputs": [
    {
     "name": "stdout",
     "output_type": "stream",
     "text": [
      "G\n"
     ]
    }
   ],
   "source": [
    "word =\"Group\"\n",
    "print(word[:0+1])"
   ]
  },
  {
   "cell_type": "code",
   "execution_count": 10,
   "metadata": {},
   "outputs": [
    {
     "name": "stdout",
     "output_type": "stream",
     "text": [
      "G\n",
      "Gr\n",
      "Gro\n",
      "Grou\n",
      "Group\n"
     ]
    }
   ],
   "source": [
    "word = \"Group\"\n",
    "for i in range(len(word)):\n",
    "    print(\"\"*(len(word)-i-1)+word[:i+1])\n"
   ]
  },
  {
   "cell_type": "code",
   "execution_count": 11,
   "metadata": {},
   "outputs": [
    {
     "name": "stdout",
     "output_type": "stream",
     "text": [
      "     G\n",
      "    Gr\n",
      "   Gro\n",
      "  Grou\n",
      " Group\n"
     ]
    }
   ],
   "source": [
    "word = 'Group'\n",
    "n = len(word)\n",
    "for i in range(n):\n",
    "    for j in range(i,n):\n",
    "        print(\" \", end=\"\")\n",
    "    for j in range(i+1):\n",
    "        print(word[j], end ='')\n",
    "    print()"
   ]
  },
  {
   "cell_type": "code",
   "execution_count": 24,
   "metadata": {},
   "outputs": [
    {
     "data": {
      "text/plain": [
       "2.6666666666666665"
      ]
     },
     "execution_count": 24,
     "metadata": {},
     "output_type": "execute_result"
    }
   ],
   "source": [
    "def fizbuz():\n",
    "    for i in range(1,101):\n",
    "        if i % "
   ]
  }
 ],
 "metadata": {
  "kernelspec": {
   "display_name": "base",
   "language": "python",
   "name": "python3"
  },
  "language_info": {
   "codemirror_mode": {
    "name": "ipython",
    "version": 3
   },
   "file_extension": ".py",
   "mimetype": "text/x-python",
   "name": "python",
   "nbconvert_exporter": "python",
   "pygments_lexer": "ipython3",
   "version": "3.9.13"
  }
 },
 "nbformat": 4,
 "nbformat_minor": 2
}
