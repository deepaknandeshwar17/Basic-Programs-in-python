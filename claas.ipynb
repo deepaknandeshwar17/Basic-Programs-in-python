{
 "cells": [
  {
   "cell_type": "code",
   "execution_count": 4,
   "metadata": {},
   "outputs": [
    {
     "name": "stdout",
     "output_type": "stream",
     "text": [
      "The name is Insane, Language is Python and the salary is 1500000 \n"
     ]
    }
   ],
   "source": [
    "# Classes\n",
    "\n",
    "class employee:\n",
    "    name = 'Insane'\n",
    "    lang = 'Python'\n",
    "    sal = 1500000\n",
    "\n",
    "    def getinfo(self):\n",
    "        print(f'The name is {self.name}, Language is {self.lang} and the salary is {self.sal} ')\n",
    "\n",
    "dee = employee()\n",
    "\n",
    "dee.getinfo()"
   ]
  }
 ],
 "metadata": {
  "kernelspec": {
   "display_name": "base",
   "language": "python",
   "name": "python3"
  },
  "language_info": {
   "codemirror_mode": {
    "name": "ipython",
    "version": 3
   },
   "file_extension": ".py",
   "mimetype": "text/x-python",
   "name": "python",
   "nbconvert_exporter": "python",
   "pygments_lexer": "ipython3",
   "version": "3.9.13"
  }
 },
 "nbformat": 4,
 "nbformat_minor": 2
}
