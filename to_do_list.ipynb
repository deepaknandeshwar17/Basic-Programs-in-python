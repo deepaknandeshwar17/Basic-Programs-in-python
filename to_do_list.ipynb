{
 "cells": [
  {
   "cell_type": "code",
   "execution_count": 2,
   "metadata": {},
   "outputs": [
    {
     "name": "stdout",
     "output_type": "stream",
     "text": [
      "list Menu\n",
      "1. Add Task\n",
      "2. View Task\n",
      "Task added successfully\n",
      "list Menu\n",
      "1. Add Task\n",
      "2. View Task\n",
      "View Task\n",
      "f{i}. {task}\n"
     ]
    }
   ],
   "source": [
    "all_tasks = []\n",
    "\n",
    "while True:\n",
    "    print(\"list Menu\")\n",
    "    print(\"1. Add Task\")\n",
    "    print(\"2. View Task\")\n",
    "\n",
    "    choice = int(input(\"Enter your choice (1-5)\"))\n",
    "\n",
    "    if choice == 1:\n",
    "        task = input(\"Enter your task here: \")\n",
    "        all_tasks.append(task)\n",
    "        print(\"Task added successfully\")\n",
    "    \n",
    "    elif choice == 2 :\n",
    "        print(\"View Task\")\n",
    "        for i, task in enumerate(all_tasks,start=1):\n",
    "            print(\"f{i}. {task}\")\n",
    "        break"
   ]
  },
  {
   "cell_type": "code",
   "execution_count": 4,
   "metadata": {},
   "outputs": [
    {
     "name": "stdout",
     "output_type": "stream",
     "text": [
      "\n",
      "To-Do List Menu:\n",
      "1. Add Task\n",
      "2. Edit Task\n",
      "3. Delete Task\n",
      "4. View Tasks\n",
      "5. Exit\n",
      "\n",
      "Current To-Do List:\n",
      "\n",
      "To-Do List Menu:\n",
      "1. Add Task\n",
      "2. Edit Task\n",
      "3. Delete Task\n",
      "4. View Tasks\n",
      "5. Exit\n",
      "\n",
      "Current To-Do List:\n",
      "\n",
      "To-Do List Menu:\n",
      "1. Add Task\n",
      "2. Edit Task\n",
      "3. Delete Task\n",
      "4. View Tasks\n",
      "5. Exit\n",
      "Tasks saved to 'tasks.txt'.\n",
      "Exiting To-Do List Application. Goodbye!\n"
     ]
    }
   ],
   "source": [
    "tasks = []\n",
    "\n",
    "while True:\n",
    "    print(\"\\nTo-Do List Menu:\")\n",
    "    print(\"1. Add Task\")\n",
    "    print(\"2. Edit Task\")\n",
    "    print(\"3. Delete Task\")\n",
    "    print(\"4. View Tasks\")\n",
    "    print(\"5. Exit\")\n",
    "\n",
    "    choice = input(\"Enter your choice (1-5): \")\n",
    "\n",
    "    if choice == \"1\":\n",
    "        task = input(\"Enter the task: \")\n",
    "        tasks.append(task)\n",
    "        print(\"Task added successfully!\")\n",
    "\n",
    "    elif choice == \"2\":\n",
    "        index = int(input(\"Enter the task number to edit: \"))\n",
    "        if 1 <= index <= len(tasks):\n",
    "            new_task = input(\"Enter the new task: \")\n",
    "            tasks[index - 1] = new_task\n",
    "            print(\"Task edited successfully!\")\n",
    "        else:\n",
    "            print(\"Invalid task number.\")\n",
    "\n",
    "    elif choice == \"3\":\n",
    "        index = int(input(\"Enter the task number to delete: \"))\n",
    "        if 1 <= index <= len(tasks):\n",
    "            deleted_task = tasks.pop(index - 1)\n",
    "            print(f\"Task '{deleted_task}' deleted successfully!\")\n",
    "        else:\n",
    "            print(\"Invalid task number.\")\n",
    "\n",
    "    elif choice == \"4\":\n",
    "        print(\"\\nCurrent To-Do List:\")\n",
    "        for i, task in enumerate(tasks, start=1):\n",
    "            print(f\"{i}. {task}\")\n",
    "\n",
    "    elif choice == \"5\":\n",
    "        with open(\"tasks.txt\", \"w\") as file:\n",
    "            for task in tasks:\n",
    "                file.write(f\"{task}\\n\")\n",
    "        print(\"Tasks saved to 'tasks.txt'.\")\n",
    "        print(\"Exiting To-Do List Application. Goodbye!\")\n",
    "        break\n",
    "    else:\n",
    "        print(\"try again\")\n"
   ]
  }
 ],
 "metadata": {
  "kernelspec": {
   "display_name": "base",
   "language": "python",
   "name": "python3"
  },
  "language_info": {
   "codemirror_mode": {
    "name": "ipython",
    "version": 3
   },
   "file_extension": ".py",
   "mimetype": "text/x-python",
   "name": "python",
   "nbconvert_exporter": "python",
   "pygments_lexer": "ipython3",
   "version": "3.9.13"
  }
 },
 "nbformat": 4,
 "nbformat_minor": 2
}
