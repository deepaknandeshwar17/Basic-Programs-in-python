{
 "cells": [
  {
   "cell_type": "code",
   "execution_count": 13,
   "metadata": {},
   "outputs": [
    {
     "name": "stdout",
     "output_type": "stream",
     "text": [
      "Avg of numbers is : 2.0\n"
     ]
    }
   ],
   "source": [
    "# Finding the average of the number\n",
    "\n",
    "num = int(input('how many numbers?'))\n",
    "total = 0\n",
    "\n",
    "for i in range(num):\n",
    "    numbers = int(input(\"enter the numbers\"))\n",
    "    total += numbers\n",
    "\n",
    "avg = total/num\n",
    "print('Avg of numbers is :', avg)"
   ]
  },
  {
   "cell_type": "code",
   "execution_count": 14,
   "metadata": {},
   "outputs": [
    {
     "name": "stdout",
     "output_type": "stream",
     "text": [
      "sum is : 6.0\n"
     ]
    }
   ],
   "source": [
    "# Sum of N positive integer\n",
    "\n",
    "n = int(input(\"Enter the number: \"))\n",
    "s = (n * (n +1)) / 2\n",
    "print(\"sum is :\", s)"
   ]
  },
  {
   "cell_type": "code",
   "execution_count": 17,
   "metadata": {},
   "outputs": [
    {
     "name": "stdout",
     "output_type": "stream",
     "text": [
      "(6, 0.0)\n"
     ]
    }
   ],
   "source": [
    "# To get time for execution\n",
    "\n",
    "import time\n",
    "def myfun():\n",
    "    start_time = time.time()\n",
    "    s = 0\n",
    "    for i in range (1,n+1):\n",
    "        s = s+i\n",
    "\n",
    "    end_time = time.time()\n",
    "    return s, start_time - end_time\n",
    "n = int(input())\n",
    "print(myfun())"
   ]
  },
  {
   "cell_type": "code",
   "execution_count": 18,
   "metadata": {},
   "outputs": [
    {
     "name": "stdout",
     "output_type": "stream",
     "text": [
      "deepa\n"
     ]
    }
   ],
   "source": [
    "# Get current username\n",
    "\n",
    "import getpass\n",
    "print(getpass.getuser())"
   ]
  },
  {
   "cell_type": "code",
   "execution_count": 19,
   "metadata": {},
   "outputs": [
    {
     "name": "stdout",
     "output_type": "stream",
     "text": [
      "1 3\n",
      "         45 function calls in 0.001 seconds\n",
      "\n",
      "   Ordered by: standard name\n",
      "\n",
      "   ncalls  tottime  percall  cumtime  percall filename:lineno(function)\n",
      "        1    0.000    0.000    0.001    0.001 264950895.py:4(sum)\n",
      "        1    0.000    0.000    0.001    0.001 <string>:1(<module>)\n",
      "        1    0.000    0.000    0.001    0.001 iostream.py:202(schedule)\n",
      "        4    0.000    0.000    0.000    0.000 iostream.py:429(_is_master_process)\n",
      "        4    0.000    0.000    0.001    0.000 iostream.py:448(_schedule_flush)\n",
      "        4    0.001    0.000    0.001    0.000 iostream.py:518(write)\n",
      "        1    0.000    0.000    0.000    0.000 iostream.py:90(_event_pipe)\n",
      "        1    0.000    0.000    0.000    0.000 socket.py:543(send)\n",
      "        1    0.000    0.000    0.000    0.000 threading.py:1066(_wait_for_tstate_lock)\n",
      "        1    0.000    0.000    0.000    0.000 threading.py:1133(is_alive)\n",
      "        1    0.000    0.000    0.000    0.000 threading.py:536(is_set)\n",
      "        1    0.000    0.000    0.001    0.001 {built-in method builtins.exec}\n",
      "        4    0.000    0.000    0.000    0.000 {built-in method builtins.isinstance}\n",
      "        4    0.000    0.000    0.000    0.000 {built-in method builtins.len}\n",
      "        1    0.000    0.000    0.001    0.001 {built-in method builtins.print}\n",
      "        4    0.000    0.000    0.000    0.000 {built-in method nt.getpid}\n",
      "        4    0.000    0.000    0.000    0.000 {method '__exit__' of '_thread.RLock' objects}\n",
      "        1    0.000    0.000    0.000    0.000 {method 'acquire' of '_thread.lock' objects}\n",
      "        1    0.000    0.000    0.000    0.000 {method 'append' of 'collections.deque' objects}\n",
      "        1    0.000    0.000    0.000    0.000 {method 'disable' of '_lsprof.Profiler' objects}\n",
      "        4    0.000    0.000    0.000    0.000 {method 'write' of '_io.StringIO' objects}\n",
      "\n",
      "\n"
     ]
    }
   ],
   "source": [
    "# profile a python script\n",
    "\n",
    "import cProfile\n",
    "def sum():\n",
    "    print(1,3)\n",
    "\n",
    "cProfile.run('sum()')"
   ]
  },
  {
   "cell_type": "markdown",
   "metadata": {},
   "source": [
    "# ***Python Program to Find Sum of Array***\n",
    "---"
   ]
  },
  {
   "cell_type": "code",
   "execution_count": 5,
   "metadata": {},
   "outputs": [
    {
     "name": "stdout",
     "output_type": "stream",
     "text": [
      "15\n"
     ]
    }
   ],
   "source": [
    "def sum_of_array(arr):\n",
    "    total = 0\n",
    "    for i in arr:\n",
    "        total = total + i\n",
    "    return total\n",
    "arr = [1,2,3,4,5]\n",
    "print(sum_of_array(arr))"
   ]
  },
  {
   "cell_type": "markdown",
   "metadata": {},
   "source": [
    "## ***Largest Element in an Array***\n",
    "---"
   ]
  },
  {
   "cell_type": "code",
   "execution_count": 14,
   "metadata": {},
   "outputs": [
    {
     "name": "stdout",
     "output_type": "stream",
     "text": [
      "9\n"
     ]
    }
   ],
   "source": [
    "def largest_arr(arr):\n",
    "    \n",
    "    max_arr = arr[0]\n",
    "    for i in arr[1:]:\n",
    "        if i > max_arr:\n",
    "            max_arr = i\n",
    "    return max_arr\n",
    "\n",
    "array = [1, 9,5, 3, 9, 2]\n",
    "print(largest_arr(array))"
   ]
  },
  {
   "cell_type": "markdown",
   "metadata": {},
   "source": [
    "## ***Frequency of the charecters***\n",
    "---"
   ]
  },
  {
   "cell_type": "code",
   "execution_count": 22,
   "metadata": {},
   "outputs": [
    {
     "name": "stdout",
     "output_type": "stream",
     "text": [
      "{'a': 3, 'b': 2, 'c': 1, 'd': 1}\n"
     ]
    }
   ],
   "source": [
    "def char_frequency(s):\n",
    "        freq = {}\n",
    "        for char in s:\n",
    "            if char.isalpha():\n",
    "                char = char.lower()\n",
    "                freq[char] = freq.get(char, 0) + 1\n",
    "        return freq\n",
    "\n",
    "c = 'abcd2 baa'\n",
    "print(char_frequency(c))\n"
   ]
  },
  {
   "cell_type": "markdown",
   "metadata": {},
   "source": [
    "## ***To Find Shortest Word***\n",
    "---"
   ]
  },
  {
   "cell_type": "code",
   "execution_count": 23,
   "metadata": {},
   "outputs": [
    {
     "name": "stdout",
     "output_type": "stream",
     "text": [
      "date\n"
     ]
    }
   ],
   "source": [
    "words = [\"apple\", \"banana\", \"cherry\", \"date\"]\n",
    "shortest_word = None\n",
    "\n",
    "for word in words:\n",
    "    if shortest_word is None or len(word) < len(shortest_word):\n",
    "        shortest_word = word\n",
    "\n",
    "print(shortest_word) "
   ]
  },
  {
   "cell_type": "markdown",
   "metadata": {},
   "source": [
    "# ***Sum of N Intigers***\n",
    "---"
   ]
  },
  {
   "cell_type": "code",
   "execution_count": 5,
   "metadata": {},
   "outputs": [
    {
     "name": "stdout",
     "output_type": "stream",
     "text": [
      "10\n"
     ]
    }
   ],
   "source": [
    "n = 4\n",
    "s = 0\n",
    "for i in range(n+1):\n",
    "    s=s+i\n",
    "\n",
    "print(s)"
   ]
  },
  {
   "cell_type": "markdown",
   "metadata": {},
   "source": [
    "# ***Generate a random number***\n",
    "---"
   ]
  },
  {
   "cell_type": "code",
   "execution_count": 40,
   "metadata": {},
   "outputs": [
    {
     "name": "stdout",
     "output_type": "stream",
     "text": [
      "Random number: 65\n"
     ]
    }
   ],
   "source": [
    "import random\n",
    "print(f\"Random number: {random.randint(0,100)}\")"
   ]
  },
  {
   "cell_type": "markdown",
   "metadata": {},
   "source": [
    "# ***Swapping two numbers***\n",
    "---"
   ]
  },
  {
   "cell_type": "code",
   "execution_count": 42,
   "metadata": {},
   "outputs": [
    {
     "name": "stdout",
     "output_type": "stream",
     "text": [
      "after swapping a: 20,  b: 10\n"
     ]
    }
   ],
   "source": [
    "a = 10\n",
    "b = 20\n",
    "\n",
    "temp = a\n",
    "a = b\n",
    "b = temp\n",
    "\n",
    "print(f\"after swapping a: {a},  b: {b}\")"
   ]
  },
  {
   "cell_type": "markdown",
   "metadata": {},
   "source": [
    "# ***Leap Year***\n",
    "---"
   ]
  },
  {
   "cell_type": "code",
   "execution_count": 46,
   "metadata": {},
   "outputs": [
    {
     "name": "stdout",
     "output_type": "stream",
     "text": [
      "1700 is not a leap year\n"
     ]
    }
   ],
   "source": [
    "year = int(input())\n",
    "if(year % 4==0 and year%100 != 0) or (year%400==0):\n",
    "    print(f\"{year} is a leap year\")\n",
    "else:\n",
    "    print(f\"{year} is not a leap year\")"
   ]
  },
  {
   "cell_type": "markdown",
   "metadata": {},
   "source": [
    "# ***Prime numbers***\n",
    "---"
   ]
  },
  {
   "cell_type": "code",
   "execution_count": 54,
   "metadata": {},
   "outputs": [
    {
     "name": "stdout",
     "output_type": "stream",
     "text": [
      "9 is Not a Prime\n"
     ]
    }
   ],
   "source": [
    "n = 9\n",
    "\n",
    "for i in range(2,n):\n",
    "    if n%i==0:\n",
    "        print(f\"{n} is Not a Prime\")\n",
    "        break\n",
    "else:\n",
    "    print(f\"{n} is a prime number\")"
   ]
  },
  {
   "cell_type": "markdown",
   "metadata": {},
   "source": [
    "# ***Prime numbers between interval***\n",
    "---"
   ]
  },
  {
   "cell_type": "code",
   "execution_count": 57,
   "metadata": {},
   "outputs": [
    {
     "name": "stdout",
     "output_type": "stream",
     "text": [
      "[2, 3, 5, 7, 11, 13]\n"
     ]
    }
   ],
   "source": [
    "def is_prime(num):\n",
    "    if num<2:\n",
    "        return False\n",
    "    for i in range(2,num):\n",
    "        if num%i==0:\n",
    "            return False\n",
    "    return True\n",
    "\n",
    "prime_numbers = []\n",
    "for n in range(1,15):\n",
    "    if is_prime(n):\n",
    "        prime_numbers.append(n)\n",
    "\n",
    "print(prime_numbers)"
   ]
  }
 ],
 "metadata": {
  "kernelspec": {
   "display_name": "base",
   "language": "python",
   "name": "python3"
  },
  "language_info": {
   "codemirror_mode": {
    "name": "ipython",
    "version": 3
   },
   "file_extension": ".py",
   "mimetype": "text/x-python",
   "name": "python",
   "nbconvert_exporter": "python",
   "pygments_lexer": "ipython3",
   "version": "3.9.13"
  }
 },
 "nbformat": 4,
 "nbformat_minor": 2
}
