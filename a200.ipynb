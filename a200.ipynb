{
 "cells": [
  {
   "cell_type": "code",
   "execution_count": 13,
   "metadata": {},
   "outputs": [
    {
     "name": "stdout",
     "output_type": "stream",
     "text": [
      "Avg of numbers is : 2.0\n"
     ]
    }
   ],
   "source": [
    "# Finding the average of the number\n",
    "\n",
    "num = int(input('how many numbers?'))\n",
    "total = 0\n",
    "\n",
    "for i in range(num):\n",
    "    numbers = int(input(\"enter the numbers\"))\n",
    "    total += numbers\n",
    "\n",
    "avg = total/num\n",
    "print('Avg of numbers is :', avg)"
   ]
  },
  {
   "cell_type": "code",
   "execution_count": 14,
   "metadata": {},
   "outputs": [
    {
     "name": "stdout",
     "output_type": "stream",
     "text": [
      "sum is : 6.0\n"
     ]
    }
   ],
   "source": [
    "# Sum of N positive integer\n",
    "\n",
    "n = int(input(\"Enter the number: \"))\n",
    "s = (n * (n +1)) / 2\n",
    "print(\"sum is :\", s)"
   ]
  },
  {
   "cell_type": "code",
   "execution_count": 17,
   "metadata": {},
   "outputs": [
    {
     "name": "stdout",
     "output_type": "stream",
     "text": [
      "(6, 0.0)\n"
     ]
    }
   ],
   "source": [
    "# To get time for execution\n",
    "\n",
    "import time\n",
    "def myfun():\n",
    "    start_time = time.time()\n",
    "    s = 0\n",
    "    for i in range (1,n+1):\n",
    "        s = s+i\n",
    "\n",
    "    end_time = time.time()\n",
    "    return s, start_time - end_time\n",
    "n = int(input())\n",
    "print(myfun())"
   ]
  },
  {
   "cell_type": "code",
   "execution_count": 18,
   "metadata": {},
   "outputs": [
    {
     "name": "stdout",
     "output_type": "stream",
     "text": [
      "deepa\n"
     ]
    }
   ],
   "source": [
    "# Get current username\n",
    "\n",
    "import getpass\n",
    "print(getpass.getuser())"
   ]
  },
  {
   "cell_type": "code",
   "execution_count": 19,
   "metadata": {},
   "outputs": [
    {
     "name": "stdout",
     "output_type": "stream",
     "text": [
      "1 3\n",
      "         45 function calls in 0.001 seconds\n",
      "\n",
      "   Ordered by: standard name\n",
      "\n",
      "   ncalls  tottime  percall  cumtime  percall filename:lineno(function)\n",
      "        1    0.000    0.000    0.001    0.001 264950895.py:4(sum)\n",
      "        1    0.000    0.000    0.001    0.001 <string>:1(<module>)\n",
      "        1    0.000    0.000    0.001    0.001 iostream.py:202(schedule)\n",
      "        4    0.000    0.000    0.000    0.000 iostream.py:429(_is_master_process)\n",
      "        4    0.000    0.000    0.001    0.000 iostream.py:448(_schedule_flush)\n",
      "        4    0.001    0.000    0.001    0.000 iostream.py:518(write)\n",
      "        1    0.000    0.000    0.000    0.000 iostream.py:90(_event_pipe)\n",
      "        1    0.000    0.000    0.000    0.000 socket.py:543(send)\n",
      "        1    0.000    0.000    0.000    0.000 threading.py:1066(_wait_for_tstate_lock)\n",
      "        1    0.000    0.000    0.000    0.000 threading.py:1133(is_alive)\n",
      "        1    0.000    0.000    0.000    0.000 threading.py:536(is_set)\n",
      "        1    0.000    0.000    0.001    0.001 {built-in method builtins.exec}\n",
      "        4    0.000    0.000    0.000    0.000 {built-in method builtins.isinstance}\n",
      "        4    0.000    0.000    0.000    0.000 {built-in method builtins.len}\n",
      "        1    0.000    0.000    0.001    0.001 {built-in method builtins.print}\n",
      "        4    0.000    0.000    0.000    0.000 {built-in method nt.getpid}\n",
      "        4    0.000    0.000    0.000    0.000 {method '__exit__' of '_thread.RLock' objects}\n",
      "        1    0.000    0.000    0.000    0.000 {method 'acquire' of '_thread.lock' objects}\n",
      "        1    0.000    0.000    0.000    0.000 {method 'append' of 'collections.deque' objects}\n",
      "        1    0.000    0.000    0.000    0.000 {method 'disable' of '_lsprof.Profiler' objects}\n",
      "        4    0.000    0.000    0.000    0.000 {method 'write' of '_io.StringIO' objects}\n",
      "\n",
      "\n"
     ]
    }
   ],
   "source": [
    "# profile a python script\n",
    "\n",
    "import cProfile\n",
    "def sum():\n",
    "    print(1,3)\n",
    "\n",
    "cProfile.run('sum()')"
   ]
  },
  {
   "cell_type": "markdown",
   "metadata": {},
   "source": [
    "# ***Python Program to Find Sum of Array***\n",
    "---"
   ]
  },
  {
   "cell_type": "code",
   "execution_count": 5,
   "metadata": {},
   "outputs": [
    {
     "name": "stdout",
     "output_type": "stream",
     "text": [
      "15\n"
     ]
    }
   ],
   "source": [
    "def sum_of_array(arr):\n",
    "    total = 0\n",
    "    for i in arr:\n",
    "        total = total + i\n",
    "    return total\n",
    "arr = [1,2,3,4,5]\n",
    "print(sum_of_array(arr))"
   ]
  },
  {
   "cell_type": "markdown",
   "metadata": {},
   "source": [
    "# ***Largest Element in an Array***\n",
    "---"
   ]
  },
  {
   "cell_type": "code",
   "execution_count": 14,
   "metadata": {},
   "outputs": [
    {
     "name": "stdout",
     "output_type": "stream",
     "text": [
      "9\n"
     ]
    }
   ],
   "source": [
    "def largest_arr(arr):\n",
    "    \n",
    "    max_arr = arr[0]\n",
    "    for i in arr[1:]:\n",
    "        if i > max_arr:\n",
    "            max_arr = i\n",
    "    return max_arr\n",
    "\n",
    "array = [1, 9,5, 3, 9, 2]\n",
    "print(largest_arr(array))"
   ]
  },
  {
   "cell_type": "markdown",
   "metadata": {},
   "source": [
    "# ***Frequency of the charecters***\n",
    "---"
   ]
  },
  {
   "cell_type": "code",
   "execution_count": 22,
   "metadata": {},
   "outputs": [
    {
     "name": "stdout",
     "output_type": "stream",
     "text": [
      "{'a': 3, 'b': 2, 'c': 1, 'd': 1}\n"
     ]
    }
   ],
   "source": [
    "def char_frequency(s):\n",
    "        freq = {}\n",
    "        for char in s:\n",
    "            if char.isalpha():\n",
    "                char = char.lower()\n",
    "                freq[char] = freq.get(char, 0) + 1\n",
    "        return freq\n",
    "\n",
    "c = 'abcd2 baa'\n",
    "print(char_frequency(c))\n"
   ]
  },
  {
   "cell_type": "markdown",
   "metadata": {},
   "source": [
    "## ***To Find Shortest Word***\n",
    "---"
   ]
  },
  {
   "cell_type": "code",
   "execution_count": 23,
   "metadata": {},
   "outputs": [
    {
     "name": "stdout",
     "output_type": "stream",
     "text": [
      "date\n"
     ]
    }
   ],
   "source": [
    "words = [\"apple\", \"banana\", \"cherry\", \"date\"]\n",
    "shortest_word = None\n",
    "\n",
    "for word in words:\n",
    "    if shortest_word is None or len(word) < len(shortest_word):\n",
    "        shortest_word = word\n",
    "\n",
    "print(shortest_word) "
   ]
  },
  {
   "cell_type": "markdown",
   "metadata": {},
   "source": [
    "# ***Sum of N Intigers***\n",
    "---"
   ]
  },
  {
   "cell_type": "code",
   "execution_count": 5,
   "metadata": {},
   "outputs": [
    {
     "name": "stdout",
     "output_type": "stream",
     "text": [
      "10\n"
     ]
    }
   ],
   "source": [
    "n = 4\n",
    "s = 0\n",
    "for i in range(n+1):\n",
    "    s=s+i\n",
    "\n",
    "print(s)"
   ]
  },
  {
   "cell_type": "markdown",
   "metadata": {},
   "source": [
    "# ***Generate a random number***\n",
    "---"
   ]
  },
  {
   "cell_type": "code",
   "execution_count": 40,
   "metadata": {},
   "outputs": [
    {
     "name": "stdout",
     "output_type": "stream",
     "text": [
      "Random number: 65\n"
     ]
    }
   ],
   "source": [
    "import random\n",
    "print(f\"Random number: {random.randint(0,100)}\")"
   ]
  },
  {
   "cell_type": "markdown",
   "metadata": {},
   "source": [
    "# ***Swapping two numbers***\n",
    "---"
   ]
  },
  {
   "cell_type": "code",
   "execution_count": 42,
   "metadata": {},
   "outputs": [
    {
     "name": "stdout",
     "output_type": "stream",
     "text": [
      "after swapping a: 20,  b: 10\n"
     ]
    }
   ],
   "source": [
    "a = 10\n",
    "b = 20\n",
    "\n",
    "temp = a\n",
    "a = b\n",
    "b = temp\n",
    "\n",
    "print(f\"after swapping a: {a},  b: {b}\")"
   ]
  },
  {
   "cell_type": "markdown",
   "metadata": {},
   "source": [
    "# ***Leap Year***\n",
    "---"
   ]
  },
  {
   "cell_type": "code",
   "execution_count": 46,
   "metadata": {},
   "outputs": [
    {
     "name": "stdout",
     "output_type": "stream",
     "text": [
      "1700 is not a leap year\n"
     ]
    }
   ],
   "source": [
    "year = int(input())\n",
    "if(year % 4==0 and year%100 != 0) or (year%400==0):\n",
    "    print(f\"{year} is a leap year\")\n",
    "else:\n",
    "    print(f\"{year} is not a leap year\")"
   ]
  },
  {
   "cell_type": "markdown",
   "metadata": {},
   "source": [
    "# ***Prime numbers***\n",
    "---"
   ]
  },
  {
   "cell_type": "code",
   "execution_count": 54,
   "metadata": {},
   "outputs": [
    {
     "name": "stdout",
     "output_type": "stream",
     "text": [
      "9 is Not a Prime\n"
     ]
    }
   ],
   "source": [
    "n = 9\n",
    "\n",
    "for i in range(2,n):\n",
    "    if n%i==0:\n",
    "        print(f\"{n} is Not a Prime\")\n",
    "        break\n",
    "else:\n",
    "    print(f\"{n} is a prime number\")"
   ]
  },
  {
   "cell_type": "markdown",
   "metadata": {},
   "source": [
    "# ***Prime numbers between interval***\n",
    "---"
   ]
  },
  {
   "cell_type": "code",
   "execution_count": 57,
   "metadata": {},
   "outputs": [
    {
     "name": "stdout",
     "output_type": "stream",
     "text": [
      "[2, 3, 5, 7, 11, 13]\n"
     ]
    }
   ],
   "source": [
    "def is_prime(num):\n",
    "    if num<2:\n",
    "        return False\n",
    "    for i in range(2,num):\n",
    "        if num%i==0:\n",
    "            return False\n",
    "    return True\n",
    "\n",
    "prime_numbers = []\n",
    "for n in range(1,15):\n",
    "    if is_prime(n):\n",
    "        prime_numbers.append(n)\n",
    "\n",
    "print(prime_numbers)"
   ]
  },
  {
   "cell_type": "markdown",
   "metadata": {},
   "source": [
    "# ***Factorial of a number***\n",
    "---"
   ]
  },
  {
   "cell_type": "code",
   "execution_count": 59,
   "metadata": {},
   "outputs": [
    {
     "name": "stdout",
     "output_type": "stream",
     "text": [
      "factorial of number 5 is 120\n"
     ]
    }
   ],
   "source": [
    "# def fact(num):\n",
    "#     result = 1\n",
    "#     for i in range(1, num+1):\n",
    "#         result = result * i\n",
    "#     return result\n",
    "\n",
    "# n = 5\n",
    "# print(f\"factorial of number {n} is {fact(n)}\")\n",
    "\n",
    "\n",
    "def fact(num):\n",
    "    if num == 0 or num ==1:\n",
    "        return 1\n",
    "    else:\n",
    "        return num * fact(num-1) \n",
    "\n",
    "n = int(input())\n",
    "print(f\"Factorial of number n \")"
   ]
  },
  {
   "cell_type": "markdown",
   "metadata": {},
   "source": [
    "# ***Armstrong number****\n",
    "---"
   ]
  },
  {
   "cell_type": "code",
   "execution_count": 9,
   "metadata": {},
   "outputs": [
    {
     "name": "stdout",
     "output_type": "stream",
     "text": [
      "1 Armstrong number\n",
      "2 Armstrong number\n",
      "3 Armstrong number\n",
      "4 Armstrong number\n",
      "5 Armstrong number\n",
      "6 Armstrong number\n",
      "7 Armstrong number\n",
      "8 Armstrong number\n",
      "9 Armstrong number\n",
      "153 Armstrong number\n",
      "370 Armstrong number\n",
      "371 Armstrong number\n",
      "407 Armstrong number\n"
     ]
    }
   ],
   "source": [
    "start = int(input())\n",
    "end = int(input())\n",
    "\n",
    "for num in range(start, end+1):\n",
    "    num_str = str(num)\n",
    "    len_str = len(num_str)\n",
    "\n",
    "    sum_of_powers = 0\n",
    "\n",
    "    for digit in num_str:\n",
    "        sum_of_powers = sum_of_powers + int(digit) ** len_str\n",
    "\n",
    "    if sum_of_powers == num:\n",
    "        print(f\"{num} Armstrong number\")\n",
    "    \n"
   ]
  },
  {
   "cell_type": "markdown",
   "metadata": {},
   "source": [
    "# ***Sum of Natural Numbers***\n",
    "---"
   ]
  },
  {
   "cell_type": "code",
   "execution_count": 12,
   "metadata": {},
   "outputs": [
    {
     "name": "stdout",
     "output_type": "stream",
     "text": [
      "55\n"
     ]
    }
   ],
   "source": [
    "limit = int(input())\n",
    "\n",
    "sum = 0\n",
    "\n",
    "for i in range(1, limit+1):\n",
    "    sum=sum+i\n",
    "\n",
    "print(sum)"
   ]
  },
  {
   "cell_type": "markdown",
   "metadata": {},
   "source": [
    "# ***Simple calculater***\n",
    "---"
   ]
  },
  {
   "cell_type": "code",
   "execution_count": 7,
   "metadata": {},
   "outputs": [
    {
     "name": "stdout",
     "output_type": "stream",
     "text": [
      "Select from given Options: \n",
      "1. Add\n",
      "2. Substract\n",
      "3. Multiply\n",
      "4. Divide\n",
      "976689.0 + 456789.0 = 1433478.0\n"
     ]
    }
   ],
   "source": [
    "def add(x,y):\n",
    "    return x+y\n",
    "\n",
    "def substract(x,y):\n",
    "    return x-y\n",
    "\n",
    "def multiply(x,y):\n",
    "    return x*y\n",
    "\n",
    "def divide(x,y):\n",
    "    if y!=0:\n",
    "        return x/y\n",
    "    else:\n",
    "        return \"Error! Division by zero\"\n",
    "    \n",
    "def calculator():\n",
    "    print(\"Select from given Options: \")\n",
    "    print(\"1. Add\")\n",
    "    print(\"2. Substract\")\n",
    "    print(\"3. Multiply\")\n",
    "    print(\"4. Divide\")\n",
    "\n",
    "    choice = input(\"Enter choice (1/2/3/4): \")\n",
    "\n",
    "    num1 = float(input(\"Enter the first number\"))\n",
    "    num2 = float(input(\"Enter the second number\"))\n",
    "\n",
    "    if choice == '1':\n",
    "        print(f\"{num1} + {num2} = {add(num1,num2)}\")\n",
    "\n",
    "    elif choice == '2':\n",
    "        print(f'{num1} - {num2} = {substract(num1,num2)}')\n",
    "    \n",
    "    elif choice == '3':\n",
    "        print(f'{num1} * {num2} = {multiply(num1,num2)}')\n",
    "    \n",
    "    elif choice == '4':\n",
    "        result = num1 / num2\n",
    "        print(f'{num1} / {num2} = {result}')\n",
    "    \n",
    "    else:\n",
    "        print('Invalid input. please choose a valid input')\n",
    "\n",
    "calculator()"
   ]
  },
  {
   "cell_type": "markdown",
   "metadata": {},
   "source": [
    "# ***Fibonacci Sequence***\n",
    "---"
   ]
  },
  {
   "cell_type": "code",
   "execution_count": 11,
   "metadata": {},
   "outputs": [
    {
     "name": "stdout",
     "output_type": "stream",
     "text": [
      "Fibonacci sequence: \n",
      "[0, 1, 1, 2, 3, 5, 8, 13]\n"
     ]
    }
   ],
   "source": [
    "# def fib(n):\n",
    "\n",
    "#     a,b = 0,1\n",
    "#     sequence = []\n",
    "\n",
    "#     for _ in range(n):\n",
    "#         sequence.append(a)\n",
    "#         a,b = b,a+b\n",
    "#     return sequence\n",
    "\n",
    "# n = int(input())\n",
    "\n",
    "# if n<=0:\n",
    "#     print(\"Enter positive number\")\n",
    "# else:\n",
    "#     print(\"The Fibonacci sequence: \")\n",
    "#     print(fib(n))\n",
    "\n",
    "\n",
    "\n",
    "def fib(n):\n",
    "    if n<=1:\n",
    "        return n\n",
    "    else:\n",
    "        return fib(n-1)+fib(n-2)\n",
    "    \n",
    "def fib_sequence(n):\n",
    "    sequence = []\n",
    "    for i in range(n):\n",
    "        sequence.append(fib(i))\n",
    "    return sequence\n",
    "\n",
    "n= int(input())\n",
    "if n<=0:\n",
    "    print('Enter positive number')\n",
    "else:\n",
    "    print(\"Fibonacci sequence: \")\n",
    "    print(fib_sequence(n))"
   ]
  },
  {
   "cell_type": "markdown",
   "metadata": {},
   "source": [
    "# ***BMI Calculater***\n",
    "---"
   ]
  },
  {
   "cell_type": "code",
   "execution_count": 18,
   "metadata": {},
   "outputs": [
    {
     "name": "stdout",
     "output_type": "stream",
     "text": [
      "Your Bmi is: 21.6\n",
      "Your Bmi Category is: Normal weight\n"
     ]
    }
   ],
   "source": [
    "def bmi_calculater(weight, height):\n",
    "    height = height * 0.01\n",
    "    bmi = (weight/(height**2))\n",
    "    return bmi\n",
    "\n",
    "def bmi_category(bmi):\n",
    "    if bmi < 18.5:\n",
    "        return \"Underweight\"\n",
    "    elif 18.2 <= bmi < 24.9:\n",
    "        return \"Normal weight\"\n",
    "    elif 25 <= bmi < 29.9:\n",
    "        return \"OverWeight\"\n",
    "    else:\n",
    "        return \"Obesity\"\n",
    "    \n",
    "weight = float(input(\"Weight\"))\n",
    "height = float(input(\"Height\"))\n",
    "\n",
    "bmi = bmi_calculater(weight, height)\n",
    "\n",
    "print(f\"Your Bmi is: {bmi:.1f}\")\n",
    "print(f\"Your Bmi Category is: {bmi_category(bmi)}\")"
   ]
  },
  {
   "cell_type": "markdown",
   "metadata": {},
   "source": [
    "# ***Natural Logarithm***\n",
    "---"
   ]
  },
  {
   "cell_type": "code",
   "execution_count": 19,
   "metadata": {},
   "outputs": [
    {
     "name": "stdout",
     "output_type": "stream",
     "text": [
      "Natural Logarithm of 10.0 is: 2.302585092994046\n"
     ]
    }
   ],
   "source": [
    "import math\n",
    "def logofnumber(num):\n",
    "    if num > 0:\n",
    "        return math.log(num)\n",
    "    else:\n",
    "        print(\"The number should be positive\")\n",
    "\n",
    "num = float(input())\n",
    "result = logofnumber(num)\n",
    "print(f\"Natural Logarithm of {num} is: {result}\")\n"
   ]
  },
  {
   "cell_type": "markdown",
   "metadata": {},
   "source": [
    "# ***Cube sum of N numbers***\n",
    "---"
   ]
  },
  {
   "cell_type": "code",
   "execution_count": 21,
   "metadata": {},
   "outputs": [
    {
     "name": "stdout",
     "output_type": "stream",
     "text": [
      "cube sum of first 4 numbers is: 100\n"
     ]
    }
   ],
   "source": [
    "def cube_sum(n):\n",
    "    total_sum = 0\n",
    "    for i in range(1,n+1):\n",
    "        total_sum = total_sum + i**3\n",
    "    return total_sum\n",
    "\n",
    "n = int(input())\n",
    "print(f\"cube sum of first {n} numbers is: {cube_sum(n)}\")"
   ]
  },
  {
   "cell_type": "markdown",
   "metadata": {},
   "source": [
    "# ***Sum of elements in array***\n",
    "---"
   ]
  },
  {
   "cell_type": "code",
   "execution_count": 22,
   "metadata": {},
   "outputs": [
    {
     "name": "stdout",
     "output_type": "stream",
     "text": [
      "The sum of array elements [2.0, 3.0, 4.0] is: 9.0\n"
     ]
    }
   ],
   "source": [
    "def array_sum(arr):\n",
    "    total_sum = 0\n",
    "    for elements in arr:\n",
    "        total_sum+=elements\n",
    "    return total_sum\n",
    "\n",
    "n = int(input(\"Enter the number of elements\"))\n",
    "arr = []\n",
    "for i in range(n):\n",
    "    element = float(input(f\"enter element {i+1}: \"))\n",
    "    arr.append(element)\n",
    "\n",
    "result = array_sum(arr)\n",
    "print(f\"The sum of array elements {arr} is: {result}\")"
   ]
  },
  {
   "cell_type": "markdown",
   "metadata": {},
   "source": [
    "# ***Largest element in an array***\n",
    "---"
   ]
  },
  {
   "cell_type": "code",
   "execution_count": 23,
   "metadata": {},
   "outputs": [
    {
     "name": "stdout",
     "output_type": "stream",
     "text": [
      "The largest element of the array [8.0, 7.0, 98.0, 988.0] is: 988.0\n"
     ]
    }
   ],
   "source": [
    "def largest_element(arr):\n",
    "    largest = arr[0]\n",
    "    for element in arr:\n",
    "        if element > largest:\n",
    "            largest = element\n",
    "    return largest\n",
    "\n",
    "n = int(input(\"Enter the number of elements\"))\n",
    "arr = []\n",
    "for i in range(n):\n",
    "    element = float(input(f\"enter element {i+1}\"))\n",
    "    arr.append(element)\n",
    "\n",
    "result = largest_element(arr)\n",
    "print(f\"The largest element of the array {arr} is: {result}\")"
   ]
  },
  {
   "cell_type": "markdown",
   "metadata": {},
   "source": [
    "# ***Array Rotation***\n",
    "---"
   ]
  },
  {
   "cell_type": "code",
   "execution_count": 26,
   "metadata": {},
   "outputs": [
    {
     "name": "stdout",
     "output_type": "stream",
     "text": [
      "The left rotated array with 2 positions array: [3.0, 4.0, 5.0, 1.0, 2.0]\n"
     ]
    }
   ],
   "source": [
    "def left_rotate(arr, d):\n",
    "    n = len(arr)\n",
    "    rotated_array = arr[d:n] + arr[0:d]\n",
    "    return rotated_array\n",
    "\n",
    "s = int(input('Enter the number of elements of array'))\n",
    "arr = []\n",
    "\n",
    "for i in range(s):\n",
    "    element = float(input(f\"Enter element {i+1}: \"))\n",
    "    arr.append(element)\n",
    "\n",
    "d = int(input(\"Enter the number of positions to be rotated\"))\n",
    "\n",
    "result = left_rotate(arr, d)\n",
    "print(f\"The left rotated array with {d} positions array: {result}\")"
   ]
  },
  {
   "cell_type": "markdown",
   "metadata": {},
   "source": [
    "# ***Split and add of array***\n",
    "---"
   ]
  },
  {
   "cell_type": "code",
   "execution_count": 32,
   "metadata": {},
   "outputs": [
    {
     "name": "stdout",
     "output_type": "stream",
     "text": [
      "The split and add of array [1, 2, 3, 4, 5] is : [3, 4, 5, 1, 2]\n"
     ]
    }
   ],
   "source": [
    "def split_and_add(arr, d):\n",
    "    n = len(arr)\n",
    "    if d<0 or d>n:\n",
    "        return \"Invalid split value\"\n",
    "    first_aplit = arr[:d]\n",
    "    second_split = arr[d:]\n",
    "    combined = second_split + first_aplit\n",
    "    return combined\n",
    "\n",
    "arr = [1,2,3,4,5]\n",
    "d = int(input(\"Enter the position of split\"))\n",
    "result = split_and_add(arr, d)\n",
    "print(f\"The split and add of array {arr} is : {result}\")"
   ]
  },
  {
   "cell_type": "markdown",
   "metadata": {},
   "source": [
    "# ***Sorting words in alphabetic order***\n",
    "---"
   ]
  },
  {
   "cell_type": "code",
   "execution_count": 2,
   "metadata": {},
   "outputs": [
    {
     "name": "stdout",
     "output_type": "stream",
     "text": [
      "['Ajay', 'Gulgule', 'Raji', 'Ram', 'Ramesh', 'Shyam', 'Suresh', 'Vibhuti']\n"
     ]
    }
   ],
   "source": [
    "# def sort_words(sentence):\n",
    "#     word = sentence.split()\n",
    "#     word.sort()\n",
    "#     return \" \".join(word)\n",
    "\n",
    "# sentence = \"suresh ramesh vibhuti gulgule raji ram shyam ajay\"\n",
    "# result = sort_words(sentence)\n",
    "# print(result)\n",
    "\n",
    "\n",
    "my_str = input()\n",
    "words = [i.capitalize() for i in my_str.split()]\n",
    "words.sort()\n",
    "print(words)"
   ]
  },
  {
   "cell_type": "code",
   "execution_count": null,
   "metadata": {},
   "outputs": [],
   "source": []
  }
 ],
 "metadata": {
  "kernelspec": {
   "display_name": "base",
   "language": "python",
   "name": "python3"
  },
  "language_info": {
   "codemirror_mode": {
    "name": "ipython",
    "version": 3
   },
   "file_extension": ".py",
   "mimetype": "text/x-python",
   "name": "python",
   "nbconvert_exporter": "python",
   "pygments_lexer": "ipython3",
   "version": "3.9.13"
  }
 },
 "nbformat": 4,
 "nbformat_minor": 2
}
