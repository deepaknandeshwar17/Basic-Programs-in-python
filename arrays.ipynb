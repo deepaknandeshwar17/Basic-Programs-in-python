{
 "cells": [
  {
   "cell_type": "code",
   "execution_count": 6,
   "metadata": {},
   "outputs": [
    {
     "name": "stdout",
     "output_type": "stream",
     "text": [
      "5\n",
      "['BMW', 'Benz', 'Buggati', 4, 9]\n"
     ]
    }
   ],
   "source": [
    "car = ['BMW','Benz','Buggati',7,9]\n",
    "car[3]=4\n",
    "\n",
    "print(len(car))\n",
    "print(car)"
   ]
  },
  {
   "cell_type": "code",
   "execution_count": 7,
   "metadata": {},
   "outputs": [
    {
     "name": "stdout",
     "output_type": "stream",
     "text": [
      "BMW\n",
      "Benz\n",
      "Buggati\n",
      "4\n",
      "9\n"
     ]
    }
   ],
   "source": [
    "for x in car:\n",
    "    print(x)"
   ]
  },
  {
   "cell_type": "code",
   "execution_count": 34,
   "metadata": {},
   "outputs": [
    {
     "name": "stdout",
     "output_type": "stream",
     "text": [
      "['BMW', 'Benz', 'Buggati', 7, 9, 'honda', 'Honda', 'Honda', 'Honda']\n"
     ]
    }
   ],
   "source": [
    "car.append(\"Honda\")\n",
    "print(car)\n",
    "# print(car.pop())"
   ]
  },
  {
   "cell_type": "code",
   "execution_count": 40,
   "metadata": {},
   "outputs": [
    {
     "name": "stdout",
     "output_type": "stream",
     "text": [
      "['BMW', 'Benz', 'Buggati', 7, 9, 'honda', 'Toyota']\n"
     ]
    }
   ],
   "source": [
    "car = ['BMW','Benz','Buggati',7,9]\n",
    "car.append(\"honda\")\n",
    "car.append(\"Toyota\")\n",
    "print(car)"
   ]
  },
  {
   "cell_type": "code",
   "execution_count": 2,
   "metadata": {},
   "outputs": [
    {
     "name": "stdout",
     "output_type": "stream",
     "text": [
      "\n",
      "\n",
      "Question for Rs. 1000\n",
      " which is the capital city of India? : \n",
      "a.Delhi         b.Bengaluru\n",
      "a.Mumbai         b.Belagavi\n",
      "Correct answer. you won Rs.  1000\n",
      "\n",
      "\n",
      "Question for Rs. 2000\n",
      " which is the capital city of India? : \n",
      "a.Delhi         b.Bengaluru\n",
      "a.Mumbai         b.Belagavi\n",
      "Correct answer. you won Rs.  2000\n",
      "\n",
      "\n",
      "Question for Rs. 3000\n",
      " which is the capital city of India? : \n",
      "a.Delhi         b.Bengaluru\n",
      "a.Mumbai         b.Belagavi\n",
      "Correct answer. you won Rs.  3000\n",
      "\n",
      "\n",
      "Question for Rs. 4000\n",
      " which is the capital city of India? : \n",
      "a.Delhi         b.Bengaluru\n",
      "a.Mumbai         b.Belagavi\n",
      "Correct answer. you won Rs.  4000\n",
      "\n",
      "\n",
      "Question for Rs. 5000\n",
      " which is the capital city of India? : \n",
      "a.Delhi         b.Bengaluru\n",
      "a.Mumbai         b.Belagavi\n",
      "Wrong answer!!\n",
      "\n",
      " your take home money is 0\n"
     ]
    }
   ],
   "source": [
    "questions =[[ \" which is the capital city of India? \", \"Delhi\",\"Bengaluru\",\"Mumbai\",\"Belagavi\",1],\n",
    "            [ \" which is the capital city of India? \", \"Delhi\",\"Bengaluru\",\"Mumbai\",\"Belagavi\",1],\n",
    "            [ \" which is the capital city of India? \", \"Delhi\",\"Bengaluru\",\"Mumbai\",\"Belagavi\",1],\n",
    "            [ \" which is the capital city of India? \", \"Delhi\",\"Bengaluru\",\"Mumbai\",\"Belagavi\",1],\n",
    "            [ \" which is the capital city of India? \", \"Delhi\",\"Bengaluru\",\"Mumbai\",\"Belagavi\",1],\n",
    "            [ \" which is the capital city of India? \", \"Delhi\",\"Bengaluru\",\"Mumbai\",\"Belagavi\",1],\n",
    "            [ \" which is the capital city of India? \", \"Delhi\",\"Bengaluru\",\"Mumbai\",\"Belagavi\",1],\n",
    "            [ \" which is the capital city of India? \", \"Delhi\",\"Bengaluru\",\"Mumbai\",\"Belagavi\",1]]\n",
    "\n",
    "levels = [1000,2000,3000,4000,5000,6000,7000,8000,9000,10000]\n",
    "\n",
    "money = 0\n",
    "\n",
    "for i in range(0, len(questions)):\n",
    "    question = questions[i]\n",
    "    print(f\"\\n\\nQuestion for Rs. {levels[i]}\\n{question[0]}: \")\n",
    "    print(f\"a.{question[1]}         b.{question[2]}\")\n",
    "    print(f\"a.{question[3]}         b.{question[4]}\")\n",
    "    reply = int(input(\"Enter your choice(1-4): \"))\n",
    "    if (reply == question[-1]):\n",
    "        print(f\"Correct answer. you won Rs.  {levels[i]}\")\n",
    "        if (i==5):\n",
    "            money = 5000\n",
    "        elif(i==7):\n",
    "            money=7000\n",
    "    else:\n",
    "        print(\"Wrong answer!!\")\n",
    "        break\n",
    "print(f\"\\n your take home money is {money}\")\n"
   ]
  },
  {
   "cell_type": "code",
   "execution_count": 13,
   "metadata": {},
   "outputs": [
    {
     "name": "stdout",
     "output_type": "stream",
     "text": [
      "7 7\n",
      "1 1\n",
      "2 2\n",
      "3 3\n",
      "4 4\n",
      "5 5\n",
      "6 6\n",
      "7 7\n",
      "8 8\n"
     ]
    }
   ],
   "source": [
    "l =[7,1,2,3,4,5,6,7,8]\n",
    "\n",
    "for i in l:\n",
    "    print(i,i)"
   ]
  },
  {
   "cell_type": "code",
   "execution_count": 21,
   "metadata": {},
   "outputs": [
    {
     "name": "stdout",
     "output_type": "stream",
     "text": [
      "1\n",
      "2\n",
      "3\n",
      "hjkl\n",
      "5\n",
      "6\n",
      "7\n",
      "8\n",
      "9\n",
      "[1, 2, 3, 'hjkl', 5, 6, 7, 8, 9]\n"
     ]
    }
   ],
   "source": [
    "l =[1,2,3,4,5,6,7,8,9]\n",
    "index = 0\n",
    "for i in l:\n",
    "    index+=1\n",
    "    print(i)\n",
    "    if (index==3):\n",
    "        l[3]=\"hjkl\"\n",
    "        \n",
    "        # print(\"hloo\")\n",
    "    \n",
    "# l[3] =\"hjk\"\n",
    "print(l)"
   ]
  },
  {
   "cell_type": "code",
   "execution_count": 29,
   "metadata": {},
   "outputs": [
    {
     "name": "stdout",
     "output_type": "stream",
     "text": [
      "1 -> 1\n",
      "2 -> 2\n",
      "3 -> 3\n",
      "4 -> 4\n",
      "5 -> 5\n",
      "6 -> 6\n",
      "7 -> Hi\n",
      "8 -> fgh\n",
      "9 -> hj\n",
      "10 -> 7\n",
      "11 -> 8\n",
      "12 -> 9\n"
     ]
    }
   ],
   "source": [
    "l=[1,2,3,4,5,6,\"Hi\",'fgh',\"hj\",7,8,9]\n",
    "\n",
    "for i,x in enumerate(l,start=1):\n",
    "    print(i,x,sep=\" -> \")"
   ]
  },
  {
   "cell_type": "code",
   "execution_count": 32,
   "metadata": {},
   "outputs": [
    {
     "name": "stdout",
     "output_type": "stream",
     "text": [
      "1 -> 1\n",
      "2 -> 2\n",
      "3 -> 3\n",
      "4 -> 4\n",
      "5 -> 5\n",
      "6 -> 6\n",
      "7 -> Hi\n",
      "8 -> fgh\n",
      "9 -> hj\n",
      "10 -> 7\n",
      "11 -> 8\n",
      "12 -> 9\n"
     ]
    }
   ],
   "source": [
    "for i,x in enumerate(l):\n",
    "    print(f\"{i+1} -> {x}\")"
   ]
  },
  {
   "cell_type": "code",
   "execution_count": 33,
   "metadata": {},
   "outputs": [
    {
     "data": {
      "text/plain": [
       "'2.12.0'"
      ]
     },
     "execution_count": 33,
     "metadata": {},
     "output_type": "execute_result"
    }
   ],
   "source": [
    "import tensorflow as tf\n",
    "\n",
    "tf.__version__"
   ]
  },
  {
   "cell_type": "code",
   "execution_count": 35,
   "metadata": {},
   "outputs": [
    {
     "data": {
      "text/plain": [
       "'2.12.0'"
      ]
     },
     "execution_count": 35,
     "metadata": {},
     "output_type": "execute_result"
    }
   ],
   "source": [
    "import keras as ks\n",
    "\n",
    "ks.__version__"
   ]
  },
  {
   "cell_type": "code",
   "execution_count": 4,
   "metadata": {},
   "outputs": [
    {
     "name": "stdout",
     "output_type": "stream",
     "text": [
      "Total number of runs scored by team is 200.0\n"
     ]
    }
   ],
   "source": [
    "# Cricket\n",
    "\n",
    "def cricketm(run_rate):\n",
    "    total_overs = 20\n",
    "    total = run_rate * total_overs\n",
    "    return total\n",
    "\n",
    "run_rate = float(input(\"Enter the runrate: \"))\n",
    "\n",
    "total = cricketm(run_rate)\n",
    "\n",
    "print(f\"Total number of runs scored by team is {total}\")"
   ]
  },
  {
   "cell_type": "code",
   "execution_count": 6,
   "metadata": {},
   "outputs": [
    {
     "name": "stdout",
     "output_type": "stream",
     "text": [
      "Total runs scored by the team is 300.0\n"
     ]
    }
   ],
   "source": [
    "# Total runs scored by the team\n",
    "\n",
    "def runs_scored(run_rate):\n",
    "    total_overs = 20\n",
    "    total_runs = run_rate * total_overs\n",
    "    return total_runs\n",
    "\n",
    "run_rate = float(input(\"Enter the run rate\"))\n",
    "\n",
    "total = runs_scored(run_rate)\n",
    "\n",
    "print(f\"Total runs scored by the team is {total}\")"
   ]
  }
 ],
 "metadata": {
  "kernelspec": {
   "display_name": "base",
   "language": "python",
   "name": "python3"
  },
  "language_info": {
   "codemirror_mode": {
    "name": "ipython",
    "version": 3
   },
   "file_extension": ".py",
   "mimetype": "text/x-python",
   "name": "python",
   "nbconvert_exporter": "python",
   "pygments_lexer": "ipython3",
   "version": "3.9.13"
  }
 },
 "nbformat": 4,
 "nbformat_minor": 2
}
